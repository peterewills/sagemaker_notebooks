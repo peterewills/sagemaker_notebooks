{
 "cells": [
  {
   "cell_type": "code",
   "execution_count": 1,
   "metadata": {},
   "outputs": [
    {
     "name": "stderr",
     "output_type": "stream",
     "text": [
      "/home/ec2-user/anaconda3/envs/tensorflow_p36/lib/python3.6/importlib/_bootstrap.py:205: RuntimeWarning: compiletime version 3.5 of module 'tensorflow.python.framework.fast_tensor_util' does not match runtime version 3.6\n",
      "  return f(*args, **kwds)\n"
     ]
    }
   ],
   "source": [
    "import sagemaker as sm\n",
    "import pandas as pd\n",
    "import numpy as np\n",
    "import tensorflow as tf\n",
    "import boto3\n",
    "from matplotlib import pyplot as plt\n",
    "%matplotlib inline"
   ]
  },
  {
   "cell_type": "markdown",
   "metadata": {},
   "source": [
    "# MNIST Digit Classification with TensorFlow\n",
    "\n",
    "We're going to try and run a classifier on the classic MNIST data set. We'll put the data in an S3 bucket we create and pull it into this notebook, then spin up an instance for training. Finally, we'll make an endpoint, and use it to test against.\n",
    "\n",
    "I made a notebook that shows how to use the TensorFlow `estimator` API (which is a higher level of abstraction than directly building a net). So, some of the details of that are omitted here. Insofar as we're using TensorFlow, there's some convoluted syntax, but we're big boys and girls, so we can handle it.\n",
    "\n",
    "This notebook (more or less) follows the one that can be found in\n",
    "\n",
    "    sample-notebooks/sagemaker-python-sdk/tensorflow_iris_dnn_classifier_using_estimators\n",
    "    \n",
    "I wanted to rewrite it myself with a slightly different dataset to make sure I understood it.\n",
    "\n",
    "# Initialize Variables"
   ]
  },
  {
   "cell_type": "code",
   "execution_count": 2,
   "metadata": {
    "collapsed": true
   },
   "outputs": [],
   "source": [
    "#Bucket location to save your custom code in tar.gz format.\n",
    "custom_code_upload_location = 's3://peterwills-test/mnist/customcode/tensorflow_mnist'\n",
    "\n",
    "#Bucket location where results of model training are saved.\n",
    "model_artifacts_location = 's3://peterwills-test/mnist/artifacts'\n",
    "\n",
    "#IAM execution role that gives SageMaker access to resources in your AWS account.\n",
    "role = sm.get_execution_role()"
   ]
  },
  {
   "cell_type": "code",
   "execution_count": 3,
   "metadata": {},
   "outputs": [
    {
     "data": {
      "text/plain": [
       "'arn:aws:iam::470403475418:role/service-role/AmazonSageMaker-ExecutionRole-20171201T101195'"
      ]
     },
     "execution_count": 3,
     "metadata": {},
     "output_type": "execute_result"
    }
   ],
   "source": [
    "role"
   ]
  },
  {
   "cell_type": "markdown",
   "metadata": {},
   "source": [
    "The fundamental object here is a `sm.tensorflow.TensorFlow` estimator."
   ]
  },
  {
   "cell_type": "code",
   "execution_count": 4,
   "metadata": {
    "collapsed": true
   },
   "outputs": [],
   "source": [
    "from sagemaker.tensorflow import TensorFlow"
   ]
  },
  {
   "cell_type": "markdown",
   "metadata": {},
   "source": [
    "This estimator is built on top of a model, defined in the model script `mnist_dnn_clf.py`. The logic of the setup of the script `mnist_dnn_clf.py` is given in [the `sagemaker` docs](https://github.com/aws/sagemaker-python-sdk#tensorflow-sagemaker-estimators). There's particular syntax, function names, etc required to make it an acceptable training script for a `sagemaker.tensorflow.TensorFlow` object. Let's examine this object, because it's so fundamental to this process:"
   ]
  },
  {
   "cell_type": "code",
   "execution_count": 9,
   "metadata": {
    "collapsed": true
   },
   "outputs": [],
   "source": [
    "?TensorFlow"
   ]
  },
  {
   "cell_type": "code",
   "execution_count": 10,
   "metadata": {
    "collapsed": true
   },
   "outputs": [],
   "source": [
    "mnist_clf = TensorFlow(entry_point = 'mnist_dnn_clf.py',\n",
    "                       role = role,\n",
    "                       output_path = model_artifacts_location,\n",
    "                       code_location = custom_code_upload_location,\n",
    "                       train_instance_count = 1,\n",
    "                       train_instance_type = 'ml.p2.xlarge',\n",
    "                       training_steps = 1000,\n",
    "                       evaluation_steps = 100)"
   ]
  },
  {
   "cell_type": "markdown",
   "metadata": {},
   "source": [
    "Now we call the `.fit()` method on the estimator. Note that the file names within the directory `data_loc` are given in the script `mnist_dnn_clf.py`."
   ]
  },
  {
   "cell_type": "code",
   "execution_count": 11,
   "metadata": {
    "scrolled": true
   },
   "outputs": [
    {
     "name": "stderr",
     "output_type": "stream",
     "text": [
      "INFO:sagemaker:Creating training-job with name: sagemaker-tensorflow-py2-gpu-2017-12-12-19-01-43-484\n"
     ]
    },
    {
     "name": "stdout",
     "output_type": "stream",
     "text": [
      "...................................................................................\n",
      "\u001b[31m executing startup script (first run)\n",
      " 2017-12-12 19:08:35,408 INFO - root - running container entrypoint\n",
      " 2017-12-12 19:08:35,409 INFO - root - starting train task\u001b[0m\n",
      "\u001b[31m 2017-12-12 19:08:38,157 INFO - botocore.vendored.requests.packages.urllib3.connectionpool - Starting new HTTP connection (1): 169.254.170.2\u001b[0m\n",
      "\u001b[31m 2017-12-12 19:08:39,657 INFO - botocore.vendored.requests.packages.urllib3.connectionpool - Starting new HTTPS connection (1): s3.amazonaws.com\n",
      " 2017-12-12 19:08:39,779 INFO - botocore.vendored.requests.packages.urllib3.connectionpool - Starting new HTTPS connection (1): s3.amazonaws.com\n",
      " INFO:tensorflow:----------------------TF_CONFIG--------------------------\n",
      " INFO:tensorflow:{\"environment\": \"cloud\", \"cluster\": {\"master\": [\"algo-1:2222\"]}, \"task\": {\"index\": 0, \"type\": \"master\"}}\n",
      " INFO:tensorflow:---------------------------------------------------------\n",
      " INFO:tensorflow:going to training\n",
      " 2017-12-12 19:08:39,827 INFO - root - creating RunConfig:\n",
      " 2017-12-12 19:08:39,828 INFO - root - {'save_checkpoints_secs': 300}\n",
      " 2017-12-12 19:08:39,828 INFO - root - invoking estimator_fn\n",
      " INFO:tensorflow:Using config: {'_model_dir': u's3://peterwills-test/mnist/artifacts/sagemaker-tensorflow-py2-gpu-2017-12-12-19-01-43-484/checkpoints', '_save_checkpoints_secs': 300, '_num_ps_replicas': 0, '_keep_checkpoint_max': 5, '_session_config': None, '_tf_random_seed': None, '_task_type': u'master', '_environment': u'cloud', '_is_chief': True, '_cluster_spec': <tensorflow.python.training.server_lib.ClusterSpec object at 0x7f97a1e7c090>, '_tf_config': gpu_options {\n",
      "   per_process_gpu_memory_fraction: 1.0\n",
      " }\n",
      " , '_num_worker_replicas': 1, '_task_id': 0, '_save_summary_steps': 100, '_save_checkpoints_steps': None, '_evaluation_master': '', '_keep_checkpoint_every_n_hours': 10000, '_master': '', '_log_step_count_steps': 100}\n",
      " 2017-12-12 19:08:39,829 INFO - root - creating Experiment:\n",
      " 2017-12-12 19:08:39,830 INFO - root - {'min_eval_frequency': 1000}\n",
      " WARNING:tensorflow:From /usr/local/lib/python2.7/dist-packages/tensorflow/contrib/learn/python/learn/monitors.py:267: __init__ (from tensorflow.contrib.learn.python.learn.monitors) is deprecated and will be removed after 2016-12-05.\n",
      " Instructions for updating:\n",
      " Monitors are deprecated. Please use tf.train.SessionRunHook.\u001b[0m\n",
      "\u001b[31m INFO:tensorflow:Create CheckpointSaverHook.\u001b[0m\n",
      "\u001b[31m 2017-12-12 19:08:51.900849: I tensorflow/core/platform/cpu_feature_guard.cc:137] Your CPU supports instructions that this TensorFlow binary was not compiled to use: SSE4.1 SSE4.2 AVX AVX2 FMA\n",
      " 2017-12-12 19:08:52.050164: I tensorflow/stream_executor/cuda/cuda_gpu_executor.cc:892] successful NUMA node read from SysFS had negative value (-1), but there must be at least one NUMA node, so returning NUMA node zero\n",
      " 2017-12-12 19:08:52.050509: I tensorflow/core/common_runtime/gpu/gpu_device.cc:1030] Found device 0 with properties: \n",
      " name: Tesla K80 major: 3 minor: 7 memoryClockRate(GHz): 0.8755\n",
      " pciBusID: 0000:00:1e.0\n",
      " totalMemory: 11.17GiB freeMemory: 11.10GiB\n",
      " 2017-12-12 19:08:52.050543: I tensorflow/core/common_runtime/gpu/gpu_device.cc:1120] Creating TensorFlow device (/device:GPU:0) -> (device: 0, name: Tesla K80, pci bus id: 0000:00:1e.0, compute capability: 3.7)\u001b[0m\n",
      "\u001b[31m INFO:tensorflow:Saving checkpoints for 1 into s3://peterwills-test/mnist/artifacts/sagemaker-tensorflow-py2-gpu-2017-12-12-19-01-43-484/checkpoints/model.ckpt.\u001b[0m\n",
      "\u001b[31m INFO:tensorflow:loss = 299.148, step = 1\u001b[0m\n",
      "\u001b[31m INFO:tensorflow:global_step/sec: 314.124\n",
      " INFO:tensorflow:loss = 42.7151, step = 101 (0.318 sec)\n",
      " INFO:tensorflow:global_step/sec: 353.88\n",
      " INFO:tensorflow:loss = 19.8992, step = 201 (0.283 sec)\n",
      " INFO:tensorflow:global_step/sec: 355.547\n",
      " INFO:tensorflow:loss = 27.9332, step = 301 (0.281 sec)\n",
      " INFO:tensorflow:global_step/sec: 338.788\n",
      " INFO:tensorflow:loss = 24.0429, step = 401 (0.295 sec)\u001b[0m\n",
      "\u001b[31m INFO:tensorflow:global_step/sec: 352.333\n",
      " INFO:tensorflow:loss = 17.0359, step = 501 (0.284 sec)\n",
      " INFO:tensorflow:global_step/sec: 359.808\n",
      " INFO:tensorflow:loss = 15.9177, step = 601 (0.278 sec)\n",
      " INFO:tensorflow:global_step/sec: 343.84\n",
      " INFO:tensorflow:loss = 9.52526, step = 701 (0.291 sec)\n",
      " INFO:tensorflow:global_step/sec: 353.579\n",
      " INFO:tensorflow:loss = 16.1691, step = 801 (0.283 sec)\u001b[0m\n",
      "\u001b[31m INFO:tensorflow:global_step/sec: 357.334\n",
      " INFO:tensorflow:loss = 15.2507, step = 901 (0.280 sec)\u001b[0m\n",
      "\u001b[31m INFO:tensorflow:Starting evaluation at 2017-12-12-19:09:04\n",
      " 2017-12-12 19:09:04.683351: I tensorflow/core/common_runtime/gpu/gpu_device.cc:1120] Creating TensorFlow device (/device:GPU:0) -> (device: 0, name: Tesla K80, pci bus id: 0000:00:1e.0, compute capability: 3.7)\n",
      " INFO:tensorflow:Restoring parameters from s3://peterwills-test/mnist/artifacts/sagemaker-tensorflow-py2-gpu-2017-12-12-19-01-43-484/checkpoints/model.ckpt-1\u001b[0m\n",
      "\u001b[31m INFO:tensorflow:Evaluation [1/100]\n",
      " INFO:tensorflow:Evaluation [2/100]\n",
      " INFO:tensorflow:Evaluation [3/100]\n",
      " INFO:tensorflow:Evaluation [4/100]\n",
      " INFO:tensorflow:Evaluation [5/100]\n",
      " INFO:tensorflow:Evaluation [6/100]\n",
      " INFO:tensorflow:Evaluation [7/100]\n",
      " INFO:tensorflow:Evaluation [8/100]\n",
      " INFO:tensorflow:Evaluation [9/100]\n",
      " INFO:tensorflow:Evaluation [10/100]\n",
      " INFO:tensorflow:Evaluation [11/100]\n",
      " INFO:tensorflow:Evaluation [12/100]\n",
      " INFO:tensorflow:Evaluation [13/100]\n",
      " INFO:tensorflow:Evaluation [14/100]\n",
      " INFO:tensorflow:Evaluation [15/100]\n",
      " INFO:tensorflow:Evaluation [16/100]\n",
      " INFO:tensorflow:Evaluation [17/100]\n",
      " INFO:tensorflow:Evaluation [18/100]\n",
      " INFO:tensorflow:Evaluation [19/100]\n",
      " INFO:tensorflow:Evaluation [20/100]\n",
      " INFO:tensorflow:Evaluation [21/100]\n",
      " INFO:tensorflow:Evaluation [22/100]\n",
      " INFO:tensorflow:Evaluation [23/100]\n",
      " INFO:tensorflow:Evaluation [24/100]\n",
      " INFO:tensorflow:Evaluation [25/100]\n",
      " INFO:tensorflow:Evaluation [26/100]\n",
      " INFO:tensorflow:Evaluation [27/100]\n",
      " INFO:tensorflow:Evaluation [28/100]\n",
      " INFO:tensorflow:Evaluation [29/100]\n",
      " INFO:tensorflow:Evaluation [30/100]\n",
      " INFO:tensorflow:Evaluation [31/100]\n",
      " INFO:tensorflow:Evaluation [32/100]\n",
      " INFO:tensorflow:Evaluation [33/100]\n",
      " INFO:tensorflow:Evaluation [34/100]\n",
      " INFO:tensorflow:Evaluation [35/100]\n",
      " INFO:tensorflow:Evaluation [36/100]\n",
      " INFO:tensorflow:Evaluation [37/100]\n",
      " INFO:tensorflow:Evaluation [38/100]\n",
      " INFO:tensorflow:Evaluation [39/100]\n",
      " INFO:tensorflow:Evaluation [40/100]\n",
      " INFO:tensorflow:Evaluation [41/100]\n",
      " INFO:tensorflow:Evaluation [42/100]\n",
      " INFO:tensorflow:Evaluation [43/100]\n",
      " INFO:tensorflow:Evaluation [44/100]\n",
      " INFO:tensorflow:Evaluation [45/100]\n",
      " INFO:tensorflow:Evaluation [46/100]\n",
      " INFO:tensorflow:Evaluation [47/100]\n",
      " INFO:tensorflow:Evaluation [48/100]\n",
      " INFO:tensorflow:Evaluation [49/100]\n",
      " INFO:tensorflow:Evaluation [50/100]\n",
      " INFO:tensorflow:Evaluation [51/100]\n",
      " INFO:tensorflow:Evaluation [52/100]\n",
      " INFO:tensorflow:Evaluation [53/100]\n",
      " INFO:tensorflow:Evaluation [54/100]\n",
      " INFO:tensorflow:Evaluation [55/100]\n",
      " INFO:tensorflow:Evaluation [56/100]\n",
      " INFO:tensorflow:Evaluation [57/100]\n",
      " INFO:tensorflow:Evaluation [58/100]\n",
      " INFO:tensorflow:Evaluation [59/100]\n",
      " INFO:tensorflow:Evaluation [60/100]\n",
      " INFO:tensorflow:Evaluation [61/100]\n",
      " INFO:tensorflow:Evaluation [62/100]\n",
      " INFO:tensorflow:Evaluation [63/100]\n",
      " INFO:tensorflow:Evaluation [64/100]\n",
      " INFO:tensorflow:Evaluation [65/100]\n",
      " INFO:tensorflow:Evaluation [66/100]\n",
      " INFO:tensorflow:Evaluation [67/100]\n",
      " INFO:tensorflow:Evaluation [68/100]\n",
      " INFO:tensorflow:Evaluation [69/100]\n",
      " INFO:tensorflow:Evaluation [70/100]\n",
      " INFO:tensorflow:Evaluation [71/100]\n",
      " INFO:tensorflow:Evaluation [72/100]\n",
      " INFO:tensorflow:Evaluation [73/100]\n",
      " INFO:tensorflow:Evaluation [74/100]\n",
      " INFO:tensorflow:Evaluation [75/100]\n",
      " INFO:tensorflow:Evaluation [76/100]\n",
      " INFO:tensorflow:Evaluation [77/100]\n",
      " INFO:tensorflow:Evaluation [78/100]\n",
      " INFO:tensorflow:Evaluation [79/100]\n",
      " INFO:tensorflow:Evaluation [80/100]\n",
      " INFO:tensorflow:Evaluation [81/100]\n",
      " INFO:tensorflow:Evaluation [82/100]\n",
      " INFO:tensorflow:Evaluation [83/100]\n",
      " INFO:tensorflow:Evaluation [84/100]\n",
      " INFO:tensorflow:Evaluation [85/100]\n",
      " INFO:tensorflow:Evaluation [86/100]\n",
      " INFO:tensorflow:Evaluation [87/100]\n",
      " INFO:tensorflow:Evaluation [88/100]\n",
      " INFO:tensorflow:Evaluation [89/100]\n",
      " INFO:tensorflow:Evaluation [90/100]\n",
      " INFO:tensorflow:Evaluation [91/100]\n",
      " INFO:tensorflow:Evaluation [92/100]\n",
      " INFO:tensorflow:Evaluation [93/100]\n",
      " INFO:tensorflow:Evaluation [94/100]\n",
      " INFO:tensorflow:Evaluation [95/100]\n",
      " INFO:tensorflow:Evaluation [96/100]\n",
      " INFO:tensorflow:Evaluation [97/100]\n",
      " INFO:tensorflow:Evaluation [98/100]\n",
      " INFO:tensorflow:Evaluation [99/100]\n",
      " INFO:tensorflow:Evaluation [100/100]\n",
      " INFO:tensorflow:Finished evaluation at 2017-12-12-19:09:06\n",
      " INFO:tensorflow:Saving dict for global step 1: accuracy = 0.0969531, average_loss = 9.42624, global_step = 1, loss = 1206.56\u001b[0m\n",
      "\u001b[31m INFO:tensorflow:Validation (step 1000): average_loss = 9.42624, accuracy = 0.0969531, global_step = 1, loss = 1206.56\n",
      " INFO:tensorflow:Saving checkpoints for 1000 into s3://peterwills-test/mnist/artifacts/sagemaker-tensorflow-py2-gpu-2017-12-12-19-01-43-484/checkpoints/model.ckpt.\u001b[0m\n"
     ]
    },
    {
     "name": "stdout",
     "output_type": "stream",
     "text": [
      "\u001b[31m INFO:tensorflow:Loss for final step: 15.5377.\u001b[0m\n",
      "\u001b[31m INFO:tensorflow:Starting evaluation at 2017-12-12-19:09:14\n",
      " 2017-12-12 19:09:14.223089: I tensorflow/core/common_runtime/gpu/gpu_device.cc:1120] Creating TensorFlow device (/device:GPU:0) -> (device: 0, name: Tesla K80, pci bus id: 0000:00:1e.0, compute capability: 3.7)\n",
      " INFO:tensorflow:Restoring parameters from s3://peterwills-test/mnist/artifacts/sagemaker-tensorflow-py2-gpu-2017-12-12-19-01-43-484/checkpoints/model.ckpt-1000\u001b[0m\n",
      "\u001b[31m INFO:tensorflow:Evaluation [1/100]\n",
      " INFO:tensorflow:Evaluation [2/100]\n",
      " INFO:tensorflow:Evaluation [3/100]\n",
      " INFO:tensorflow:Evaluation [4/100]\n",
      " INFO:tensorflow:Evaluation [5/100]\n",
      " INFO:tensorflow:Evaluation [6/100]\n",
      " INFO:tensorflow:Evaluation [7/100]\n",
      " INFO:tensorflow:Evaluation [8/100]\n",
      " INFO:tensorflow:Evaluation [9/100]\n",
      " INFO:tensorflow:Evaluation [10/100]\n",
      " INFO:tensorflow:Evaluation [11/100]\n",
      " INFO:tensorflow:Evaluation [12/100]\n",
      " INFO:tensorflow:Evaluation [13/100]\n",
      " INFO:tensorflow:Evaluation [14/100]\n",
      " INFO:tensorflow:Evaluation [15/100]\n",
      " INFO:tensorflow:Evaluation [16/100]\n",
      " INFO:tensorflow:Evaluation [17/100]\n",
      " INFO:tensorflow:Evaluation [18/100]\n",
      " INFO:tensorflow:Evaluation [19/100]\n",
      " INFO:tensorflow:Evaluation [20/100]\n",
      " INFO:tensorflow:Evaluation [21/100]\n",
      " INFO:tensorflow:Evaluation [22/100]\n",
      " INFO:tensorflow:Evaluation [23/100]\n",
      " INFO:tensorflow:Evaluation [24/100]\n",
      " INFO:tensorflow:Evaluation [25/100]\n",
      " INFO:tensorflow:Evaluation [26/100]\n",
      " INFO:tensorflow:Evaluation [27/100]\n",
      " INFO:tensorflow:Evaluation [28/100]\n",
      " INFO:tensorflow:Evaluation [29/100]\n",
      " INFO:tensorflow:Evaluation [30/100]\n",
      " INFO:tensorflow:Evaluation [31/100]\n",
      " INFO:tensorflow:Evaluation [32/100]\n",
      " INFO:tensorflow:Evaluation [33/100]\n",
      " INFO:tensorflow:Evaluation [34/100]\n",
      " INFO:tensorflow:Evaluation [35/100]\n",
      " INFO:tensorflow:Evaluation [36/100]\n",
      " INFO:tensorflow:Evaluation [37/100]\n",
      " INFO:tensorflow:Evaluation [38/100]\n",
      " INFO:tensorflow:Evaluation [39/100]\n",
      " INFO:tensorflow:Evaluation [40/100]\n",
      " INFO:tensorflow:Evaluation [41/100]\n",
      " INFO:tensorflow:Evaluation [42/100]\n",
      " INFO:tensorflow:Evaluation [43/100]\n",
      " INFO:tensorflow:Evaluation [44/100]\n",
      " INFO:tensorflow:Evaluation [45/100]\n",
      " INFO:tensorflow:Evaluation [46/100]\n",
      " INFO:tensorflow:Evaluation [47/100]\n",
      " INFO:tensorflow:Evaluation [48/100]\n",
      " INFO:tensorflow:Evaluation [49/100]\n",
      " INFO:tensorflow:Evaluation [50/100]\n",
      " INFO:tensorflow:Evaluation [51/100]\n",
      " INFO:tensorflow:Evaluation [52/100]\n",
      " INFO:tensorflow:Evaluation [53/100]\n",
      " INFO:tensorflow:Evaluation [54/100]\n",
      " INFO:tensorflow:Evaluation [55/100]\n",
      " INFO:tensorflow:Evaluation [56/100]\n",
      " INFO:tensorflow:Evaluation [57/100]\n",
      " INFO:tensorflow:Evaluation [58/100]\n",
      " INFO:tensorflow:Evaluation [59/100]\n",
      " INFO:tensorflow:Evaluation [60/100]\n",
      " INFO:tensorflow:Evaluation [61/100]\n",
      " INFO:tensorflow:Evaluation [62/100]\n",
      " INFO:tensorflow:Evaluation [63/100]\n",
      " INFO:tensorflow:Evaluation [64/100]\n",
      " INFO:tensorflow:Evaluation [65/100]\n",
      " INFO:tensorflow:Evaluation [66/100]\n",
      " INFO:tensorflow:Evaluation [67/100]\n",
      " INFO:tensorflow:Evaluation [68/100]\n",
      " INFO:tensorflow:Evaluation [69/100]\n",
      " INFO:tensorflow:Evaluation [70/100]\n",
      " INFO:tensorflow:Evaluation [71/100]\n",
      " INFO:tensorflow:Evaluation [72/100]\n",
      " INFO:tensorflow:Evaluation [73/100]\n",
      " INFO:tensorflow:Evaluation [74/100]\n",
      " INFO:tensorflow:Evaluation [75/100]\n",
      " INFO:tensorflow:Evaluation [76/100]\n",
      " INFO:tensorflow:Evaluation [77/100]\n",
      " INFO:tensorflow:Evaluation [78/100]\n",
      " INFO:tensorflow:Evaluation [79/100]\n",
      " INFO:tensorflow:Evaluation [80/100]\n",
      " INFO:tensorflow:Evaluation [81/100]\n",
      " INFO:tensorflow:Evaluation [82/100]\n",
      " INFO:tensorflow:Evaluation [83/100]\n",
      " INFO:tensorflow:Evaluation [84/100]\n",
      " INFO:tensorflow:Evaluation [85/100]\n",
      " INFO:tensorflow:Evaluation [86/100]\n",
      " INFO:tensorflow:Evaluation [87/100]\n",
      " INFO:tensorflow:Evaluation [88/100]\n",
      " INFO:tensorflow:Evaluation [89/100]\n",
      " INFO:tensorflow:Evaluation [90/100]\n",
      " INFO:tensorflow:Evaluation [91/100]\n",
      " INFO:tensorflow:Evaluation [92/100]\n",
      " INFO:tensorflow:Evaluation [93/100]\n",
      " INFO:tensorflow:Evaluation [94/100]\n",
      " INFO:tensorflow:Evaluation [95/100]\n",
      " INFO:tensorflow:Evaluation [96/100]\n",
      " INFO:tensorflow:Evaluation [97/100]\n",
      " INFO:tensorflow:Evaluation [98/100]\n",
      " INFO:tensorflow:Evaluation [99/100]\n",
      " INFO:tensorflow:Evaluation [100/100]\n",
      " INFO:tensorflow:Finished evaluation at 2017-12-12-19:09:16\n",
      " INFO:tensorflow:Saving dict for global step 1000: accuracy = 0.961719, average_loss = 0.122271, global_step = 1000, loss = 15.6507\u001b[0m\n",
      "\u001b[31m 2017-12-12 19:09:16.682292: I tensorflow/core/common_runtime/gpu/gpu_device.cc:1120] Creating TensorFlow device (/device:GPU:0) -> (device: 0, name: Tesla K80, pci bus id: 0000:00:1e.0, compute capability: 3.7)\n",
      " INFO:tensorflow:Restoring parameters from s3://peterwills-test/mnist/artifacts/sagemaker-tensorflow-py2-gpu-2017-12-12-19-01-43-484/checkpoints/model.ckpt-1000\u001b[0m\n",
      "\u001b[31m INFO:tensorflow:Assets added to graph.\n",
      " INFO:tensorflow:No assets to write.\u001b[0m\n",
      "\u001b[31m INFO:tensorflow:SavedModel written to: s3://peterwills-test/mnist/artifacts/sagemaker-tensorflow-py2-gpu-2017-12-12-19-01-43-484/checkpoints/export/Servo/temp-1513105756/saved_model.pb\u001b[0m\n",
      "\u001b[31m INFO:tensorflow:writing success training\n",
      " 2017-12-12 19:09:20,873 INFO - botocore.vendored.requests.packages.urllib3.connectionpool - Starting new HTTPS connection (1): s3.amazonaws.com\n",
      " 2017-12-12 19:09:20,983 INFO - tf_container.serve - Downloaded saved model at /opt/ml/model/export/Servo/1513105756/saved_model.pb\u001b[0m\n",
      "===== Job Complete =====\n",
      "CPU times: user 680 ms, sys: 32 ms, total: 712 ms\n",
      "Wall time: 8min 19s\n"
     ]
    }
   ],
   "source": [
    "%%time\n",
    "data_loc = 's3://peterwills-test/MNIST-data'\n",
    "mnist_clf.fit(data_loc)"
   ]
  },
  {
   "cell_type": "markdown",
   "metadata": {},
   "source": [
    "Looks like it worked!"
   ]
  },
  {
   "cell_type": "markdown",
   "metadata": {},
   "source": [
    "# Use Classifier to Predict\n",
    "\n",
    "## Instantiate an Endpoint\n",
    "\n",
    "Now we'll spin up an endpoint that allows us to make predictions."
   ]
  },
  {
   "cell_type": "code",
   "execution_count": 17,
   "metadata": {
    "scrolled": true
   },
   "outputs": [
    {
     "name": "stderr",
     "output_type": "stream",
     "text": [
      "INFO:sagemaker:Creating model with name: sagemaker-tensorflow-py2-gpu-2017-12-12-19-01-43-484\n",
      "INFO:sagemaker:Creating endpoint with name sagemaker-tensorflow-py2-gpu-2017-12-12-19-01-43-484\n"
     ]
    },
    {
     "name": "stdout",
     "output_type": "stream",
     "text": [
      "---------------------------------------------------------------------------------------------------------------------------------------------------!CPU times: user 612 ms, sys: 32 ms, total: 644 ms\n",
      "Wall time: 12min 29s\n"
     ]
    }
   ],
   "source": [
    "%%time\n",
    "mnist_predictor = mnist_clf.deploy(initial_instance_count=1,instance_type='ml.c4.xlarge')"
   ]
  },
  {
   "cell_type": "markdown",
   "metadata": {},
   "source": [
    "Let's pull in a few samples from our training data set to see what prediction we have for them:"
   ]
  },
  {
   "cell_type": "code",
   "execution_count": 13,
   "metadata": {
    "collapsed": true
   },
   "outputs": [],
   "source": [
    "# download file from s3 to this directory\n",
    "s3 = boto3.resource('s3')\n",
    "s3.Bucket('peterwills-test').download_file('MNIST-data/mnist_test.csv', 'mnist_test.csv')\n",
    "\n",
    "# put into pandas to grab first row:\n",
    "mnist_test = pd.read_csv('mnist_test.csv')"
   ]
  },
  {
   "cell_type": "code",
   "execution_count": 14,
   "metadata": {
    "collapsed": true
   },
   "outputs": [],
   "source": [
    "# separate row into data and label\n",
    "test_image = np.array(mnist_test.iloc[10,:-1])\n",
    "test_label = np.array(mnist_test.iloc[10,-1])"
   ]
  },
  {
   "cell_type": "code",
   "execution_count": 15,
   "metadata": {},
   "outputs": [
    {
     "name": "stdout",
     "output_type": "stream",
     "text": [
      "Label given in 6\n"
     ]
    },
    {
     "data": {
      "image/png": "[encoded data removed]",
      "text/plain": [
       "<matplotlib.figure.Figure at 0x7fe48f060f98>"
      ]
     },
     "metadata": {},
     "output_type": "display_data"
    }
   ],
   "source": [
    "# take a look to make sure it all makes sense\n",
    "plt.imshow(test_image.reshape(28,28));\n",
    "print('Label given in {}'.format(test_label))"
   ]
  },
  {
   "cell_type": "markdown",
   "metadata": {},
   "source": [
    "Now, let's run our predictor on it:"
   ]
  },
  {
   "cell_type": "code",
   "execution_count": 16,
   "metadata": {
    "scrolled": true
   },
   "outputs": [
    {
     "ename": "ModelError",
     "evalue": "An error occurred (ModelError) when calling the InvokeEndpoint operation: Received server error (500) from model with message \"\". See https://us-east-1.console.aws.amazon.com/cloudwatch/home?region=us-east-1#logEventViewer:group=/aws/sagemaker/Endpoints/sagemaker-tensorflow-py2-gpu-2017-12-18-17-19-44-900 in account 470403475418 for more information.",
     "output_type": "error",
     "traceback": [
      "\u001b[0;31m---------------------------------------------------------------------------\u001b[0m",
      "\u001b[0;31mModelError\u001b[0m                                Traceback (most recent call last)",
      "\u001b[0;32m<ipython-input-16-68117d97dc61>\u001b[0m in \u001b[0;36m<module>\u001b[0;34m()\u001b[0m\n\u001b[0;32m----> 1\u001b[0;31m \u001b[0mpredictions\u001b[0m \u001b[0;34m=\u001b[0m \u001b[0mmnist_predictor\u001b[0m\u001b[0;34m.\u001b[0m\u001b[0mpredict\u001b[0m\u001b[0;34m(\u001b[0m\u001b[0mtest_image\u001b[0m\u001b[0;34m)\u001b[0m\u001b[0;34m\u001b[0m\u001b[0m\n\u001b[0m",
      "\u001b[0;32m~/anaconda3/envs/tensorflow_p36/lib/python3.6/site-packages/sagemaker/predictor.py\u001b[0m in \u001b[0;36mpredict\u001b[0;34m(self, data)\u001b[0m\n\u001b[1;32m     84\u001b[0m             \u001b[0mrequest_args\u001b[0m\u001b[0;34m[\u001b[0m\u001b[0;34m'Accept'\u001b[0m\u001b[0;34m]\u001b[0m \u001b[0;34m=\u001b[0m \u001b[0mself\u001b[0m\u001b[0;34m.\u001b[0m\u001b[0maccept\u001b[0m\u001b[0;34m\u001b[0m\u001b[0m\n\u001b[1;32m     85\u001b[0m \u001b[0;34m\u001b[0m\u001b[0m\n\u001b[0;32m---> 86\u001b[0;31m         \u001b[0mresponse\u001b[0m \u001b[0;34m=\u001b[0m \u001b[0mself\u001b[0m\u001b[0;34m.\u001b[0m\u001b[0msagemaker_session\u001b[0m\u001b[0;34m.\u001b[0m\u001b[0msagemaker_runtime_client\u001b[0m\u001b[0;34m.\u001b[0m\u001b[0minvoke_endpoint\u001b[0m\u001b[0;34m(\u001b[0m\u001b[0;34m**\u001b[0m\u001b[0mrequest_args\u001b[0m\u001b[0;34m)\u001b[0m\u001b[0;34m\u001b[0m\u001b[0m\n\u001b[0m\u001b[1;32m     87\u001b[0m \u001b[0;34m\u001b[0m\u001b[0m\n\u001b[1;32m     88\u001b[0m         \u001b[0mresponse_body\u001b[0m \u001b[0;34m=\u001b[0m \u001b[0mresponse\u001b[0m\u001b[0;34m[\u001b[0m\u001b[0;34m'Body'\u001b[0m\u001b[0;34m]\u001b[0m\u001b[0;34m\u001b[0m\u001b[0m\n",
      "\u001b[0;32m~/anaconda3/envs/tensorflow_p36/lib/python3.6/site-packages/botocore/client.py\u001b[0m in \u001b[0;36m_api_call\u001b[0;34m(self, *args, **kwargs)\u001b[0m\n\u001b[1;32m    312\u001b[0m                     \"%s() only accepts keyword arguments.\" % py_operation_name)\n\u001b[1;32m    313\u001b[0m             \u001b[0;31m# The \"self\" in this scope is referring to the BaseClient.\u001b[0m\u001b[0;34m\u001b[0m\u001b[0;34m\u001b[0m\u001b[0m\n\u001b[0;32m--> 314\u001b[0;31m             \u001b[0;32mreturn\u001b[0m \u001b[0mself\u001b[0m\u001b[0;34m.\u001b[0m\u001b[0m_make_api_call\u001b[0m\u001b[0;34m(\u001b[0m\u001b[0moperation_name\u001b[0m\u001b[0;34m,\u001b[0m \u001b[0mkwargs\u001b[0m\u001b[0;34m)\u001b[0m\u001b[0;34m\u001b[0m\u001b[0m\n\u001b[0m\u001b[1;32m    315\u001b[0m \u001b[0;34m\u001b[0m\u001b[0m\n\u001b[1;32m    316\u001b[0m         \u001b[0m_api_call\u001b[0m\u001b[0;34m.\u001b[0m\u001b[0m__name__\u001b[0m \u001b[0;34m=\u001b[0m \u001b[0mstr\u001b[0m\u001b[0;34m(\u001b[0m\u001b[0mpy_operation_name\u001b[0m\u001b[0;34m)\u001b[0m\u001b[0;34m\u001b[0m\u001b[0m\n",
      "\u001b[0;32m~/anaconda3/envs/tensorflow_p36/lib/python3.6/site-packages/botocore/client.py\u001b[0m in \u001b[0;36m_make_api_call\u001b[0;34m(self, operation_name, api_params)\u001b[0m\n\u001b[1;32m    610\u001b[0m             \u001b[0merror_code\u001b[0m \u001b[0;34m=\u001b[0m \u001b[0mparsed_response\u001b[0m\u001b[0;34m.\u001b[0m\u001b[0mget\u001b[0m\u001b[0;34m(\u001b[0m\u001b[0;34m\"Error\"\u001b[0m\u001b[0;34m,\u001b[0m \u001b[0;34m{\u001b[0m\u001b[0;34m}\u001b[0m\u001b[0;34m)\u001b[0m\u001b[0;34m.\u001b[0m\u001b[0mget\u001b[0m\u001b[0;34m(\u001b[0m\u001b[0;34m\"Code\"\u001b[0m\u001b[0;34m)\u001b[0m\u001b[0;34m\u001b[0m\u001b[0m\n\u001b[1;32m    611\u001b[0m             \u001b[0merror_class\u001b[0m \u001b[0;34m=\u001b[0m \u001b[0mself\u001b[0m\u001b[0;34m.\u001b[0m\u001b[0mexceptions\u001b[0m\u001b[0;34m.\u001b[0m\u001b[0mfrom_code\u001b[0m\u001b[0;34m(\u001b[0m\u001b[0merror_code\u001b[0m\u001b[0;34m)\u001b[0m\u001b[0;34m\u001b[0m\u001b[0m\n\u001b[0;32m--> 612\u001b[0;31m             \u001b[0;32mraise\u001b[0m \u001b[0merror_class\u001b[0m\u001b[0;34m(\u001b[0m\u001b[0mparsed_response\u001b[0m\u001b[0;34m,\u001b[0m \u001b[0moperation_name\u001b[0m\u001b[0;34m)\u001b[0m\u001b[0;34m\u001b[0m\u001b[0m\n\u001b[0m\u001b[1;32m    613\u001b[0m         \u001b[0;32melse\u001b[0m\u001b[0;34m:\u001b[0m\u001b[0;34m\u001b[0m\u001b[0m\n\u001b[1;32m    614\u001b[0m             \u001b[0;32mreturn\u001b[0m \u001b[0mparsed_response\u001b[0m\u001b[0;34m\u001b[0m\u001b[0m\n",
      "\u001b[0;31mModelError\u001b[0m: An error occurred (ModelError) when calling the InvokeEndpoint operation: Received server error (500) from model with message \"\". See https://us-east-1.console.aws.amazon.com/cloudwatch/home?region=us-east-1#logEventViewer:group=/aws/sagemaker/Endpoints/sagemaker-tensorflow-py2-gpu-2017-12-18-17-19-44-900 in account 470403475418 for more information."
     ]
    }
   ],
   "source": [
    "predictions = mnist_predictor.predict(test_image)"
   ]
  },
  {
   "cell_type": "markdown",
   "metadata": {},
   "source": [
    "Our predictor gives us the output in a weird nested-dictionary format, so we'll use the below function to convert it to a series for nice plotting."
   ]
  },
  {
   "cell_type": "code",
   "execution_count": 18,
   "metadata": {
    "collapsed": true
   },
   "outputs": [],
   "source": [
    "def prediction_series(predictions):\n",
    "    \"\"\"Transform output of SageMaker predictor into a Pandas series\"\"\"\n",
    "    prediction_list = predictions['result']['classifications'][0]['classes']\n",
    "    results = pd.Series()\n",
    "    for prediction in prediction_list:\n",
    "        results[prediction['label']] = prediction['score']\n",
    "    return results"
   ]
  },
  {
   "cell_type": "code",
   "execution_count": 19,
   "metadata": {
    "collapsed": true
   },
   "outputs": [],
   "source": [
    "# logits are nicer than raw probabilities\n",
    "def logit(p):\n",
    "    return np.log(p/(1-p))"
   ]
  },
  {
   "cell_type": "markdown",
   "metadata": {},
   "source": [
    "Now we're ready to plot the output (in log-odds) of our predictor."
   ]
  },
  {
   "cell_type": "code",
   "execution_count": 48,
   "metadata": {
    "scrolled": true
   },
   "outputs": [
    {
     "data": {
      "image/png": "[encoded data removed]",
      "text/plain": [
       "<matplotlib.figure.Figure at 0x7fbb6f14c748>"
      ]
     },
     "metadata": {},
     "output_type": "display_data"
    }
   ],
   "source": [
    "logit(prediction_series(predictions)).plot.bar()\n",
    "plt.title('MNIST Classifier Probabilities');\n",
    "plt.xlabel('Digits');\n",
    "plt.ylabel('Probabilities in Logits');"
   ]
  },
  {
   "cell_type": "markdown",
   "metadata": {},
   "source": [
    "Beautiful. We see that the correct digit 6 is highly favored. Now let's get rid of the endpoint, since we're not going to keep using it.\n",
    "\n",
    "### Delete Endpoint"
   ]
  },
  {
   "cell_type": "code",
   "execution_count": 46,
   "metadata": {},
   "outputs": [
    {
     "name": "stderr",
     "output_type": "stream",
     "text": [
      "INFO:sagemaker:Deleting endpoint with name: sagemaker-tensorflow-py2-gpu-2017-12-12-19-01-43-484\n"
     ]
    }
   ],
   "source": [
    "# delete the endpoint when you're done to save resources\n",
    "sm.Session().delete_endpoint(mnist_predictor.endpoint)"
   ]
  },
  {
   "cell_type": "markdown",
   "metadata": {},
   "source": [
    "# Using Custom Model\n",
    "\n",
    "Now we'll repeat the process, but using the model script `mnist_custom_model_clf.py`. This one doesn't use the pre-packaged `tf.estimator.DNNClassifier`, but rather defines a custom model. This may become important to us in the future."
   ]
  },
  {
   "cell_type": "code",
   "execution_count": 35,
   "metadata": {
    "collapsed": true
   },
   "outputs": [],
   "source": [
    "mnist_clf = TensorFlow(entry_point = 'mnist_custom_model_clf.py',\n",
    "                       role = role,\n",
    "                       output_path = model_artifacts_location,\n",
    "                       code_location = custom_code_upload_location,\n",
    "                       train_instance_count = 1,\n",
    "                       train_instance_type = 'ml.p2.xlarge',\n",
    "                       training_steps = 1000,\n",
    "                       evaluation_steps = 100)"
   ]
  },
  {
   "cell_type": "code",
   "execution_count": 36,
   "metadata": {},
   "outputs": [
    {
     "name": "stderr",
     "output_type": "stream",
     "text": [
      "INFO:sagemaker:Creating training-job with name: sagemaker-tensorflow-py2-gpu-2017-12-18-18-04-24-202\n"
     ]
    },
    {
     "name": "stdout",
     "output_type": "stream",
     "text": [
      "....................................................................................\n",
      "\u001b[31mexecuting startup script (first run)\u001b[0m\n",
      "\u001b[31m2017-12-18 18:11:14,809 INFO - root - running container entrypoint\u001b[0m\n",
      "\u001b[31m2017-12-18 18:11:14,810 INFO - root - starting train task\u001b[0m\n",
      "\u001b[31m2017-12-18 18:11:17,506 INFO - botocore.vendored.requests.packages.urllib3.connectionpool - Starting new HTTP connection (1): 169.254.170.2\u001b[0m\n",
      "\u001b[31m2017-12-18 18:11:19,201 INFO - botocore.vendored.requests.packages.urllib3.connectionpool - Starting new HTTPS connection (1): s3.amazonaws.com\u001b[0m\n",
      "\u001b[31m2017-12-18 18:11:19,374 INFO - botocore.vendored.requests.packages.urllib3.connectionpool - Starting new HTTPS connection (1): s3.amazonaws.com\u001b[0m\n",
      "\u001b[31mINFO:tensorflow:----------------------TF_CONFIG--------------------------\u001b[0m\n",
      "\u001b[31mINFO:tensorflow:{\"environment\": \"cloud\", \"cluster\": {\"master\": [\"algo-1:2222\"]}, \"task\": {\"index\": 0, \"type\": \"master\"}}\u001b[0m\n",
      "\u001b[31mINFO:tensorflow:---------------------------------------------------------\u001b[0m\n",
      "\u001b[31mINFO:tensorflow:going to training\u001b[0m\n",
      "\u001b[31m2017-12-18 18:11:19,425 INFO - root - creating RunConfig:\u001b[0m\n",
      "\u001b[31m2017-12-18 18:11:19,425 INFO - root - {'save_checkpoints_secs': 300}\u001b[0m\n",
      "\u001b[31m2017-12-18 18:11:19,426 INFO - root - creating the estimator\u001b[0m\n",
      "\u001b[31mINFO:tensorflow:Using config: {'_model_dir': u's3://peterwills-test/mnist/artifacts/sagemaker-tensorflow-py2-gpu-2017-12-18-18-04-24-202/checkpoints', '_save_checkpoints_secs': 300, '_num_ps_replicas': 0, '_keep_checkpoint_max': 5, '_session_config': None, '_tf_random_seed': None, '_task_type': u'master', '_environment': u'cloud', '_is_chief': True, '_cluster_spec': <tensorflow.python.training.server_lib.ClusterSpec object at 0x7fe47072a990>, '_tf_config': gpu_options {\n",
      "  per_process_gpu_memory_fraction: 1.0\u001b[0m\n",
      "\u001b[31m}\u001b[0m\n",
      "\u001b[31m, '_num_worker_replicas': 1, '_task_id': 0, '_save_summary_steps': 100, '_save_checkpoints_steps': None, '_evaluation_master': '', '_keep_checkpoint_every_n_hours': 10000, '_master': '', '_log_step_count_steps': 100}\u001b[0m\n",
      "\u001b[31m2017-12-18 18:11:19,427 INFO - root - creating Experiment:\u001b[0m\n",
      "\u001b[31m2017-12-18 18:11:19,427 INFO - root - {'min_eval_frequency': 1000}\u001b[0m\n",
      "\u001b[31mWARNING:tensorflow:From /usr/local/lib/python2.7/dist-packages/tensorflow/contrib/learn/python/learn/monitors.py:267: __init__ (from tensorflow.contrib.learn.python.learn.monitors) is deprecated and will be removed after 2016-12-05.\u001b[0m\n",
      "\u001b[31mInstructions for updating:\u001b[0m\n",
      "\u001b[31mMonitors are deprecated. Please use tf.train.SessionRunHook.\u001b[0m\n",
      "\u001b[31mINFO:tensorflow:Create CheckpointSaverHook.\u001b[0m\n",
      "\u001b[31m2017-12-18 18:11:30.863618: I tensorflow/core/platform/cpu_feature_guard.cc:137] Your CPU supports instructions that this TensorFlow binary was not compiled to use: SSE4.1 SSE4.2 AVX AVX2 FMA\u001b[0m\n",
      "\u001b[31m2017-12-18 18:11:30.989999: I tensorflow/stream_executor/cuda/cuda_gpu_executor.cc:892] successful NUMA node read from SysFS had negative value (-1), but there must be at least one NUMA node, so returning NUMA node zero\u001b[0m\n",
      "\u001b[31m2017-12-18 18:11:30.990355: I tensorflow/core/common_runtime/gpu/gpu_device.cc:1030] Found device 0 with properties: \u001b[0m\n",
      "\u001b[31mname: Tesla K80 major: 3 minor: 7 memoryClockRate(GHz): 0.8755\u001b[0m\n",
      "\u001b[31mpciBusID: 0000:00:1e.0\u001b[0m\n",
      "\u001b[31mtotalMemory: 11.17GiB freeMemory: 11.10GiB\u001b[0m\n",
      "\u001b[31m2017-12-18 18:11:30.990384: I tensorflow/core/common_runtime/gpu/gpu_device.cc:1120] Creating TensorFlow device (/device:GPU:0) -> (device: 0, name: Tesla K80, pci bus id: 0000:00:1e.0, compute capability: 3.7)\u001b[0m\n",
      "\u001b[31mINFO:tensorflow:Saving checkpoints for 1 into s3://peterwills-test/mnist/artifacts/sagemaker-tensorflow-py2-gpu-2017-12-18-18-04-24-202/checkpoints/model.ckpt.\u001b[0m\n",
      "\u001b[31mINFO:tensorflow:loss = 2.36145, step = 1\u001b[0m\n",
      "\u001b[31mINFO:tensorflow:global_step/sec: 395.643\u001b[0m\n",
      "\u001b[31mINFO:tensorflow:loss = 2.10166, step = 101 (0.253 sec)\u001b[0m\n",
      "\u001b[31mINFO:tensorflow:global_step/sec: 396.228\u001b[0m\n",
      "\u001b[31mINFO:tensorflow:loss = 1.87501, step = 201 (0.252 sec)\u001b[0m\n",
      "\u001b[31mINFO:tensorflow:global_step/sec: 400.864\u001b[0m\n",
      "\u001b[31mINFO:tensorflow:loss = 1.63926, step = 301 (0.249 sec)\u001b[0m\n",
      "\u001b[31mINFO:tensorflow:global_step/sec: 422.551\u001b[0m\n",
      "\u001b[31mINFO:tensorflow:loss = 1.4763, step = 401 (0.237 sec)\u001b[0m\n",
      "\u001b[31mINFO:tensorflow:global_step/sec: 421.571\u001b[0m\n",
      "\u001b[31mINFO:tensorflow:loss = 1.29184, step = 501 (0.237 sec)\u001b[0m\n",
      "\u001b[31mINFO:tensorflow:global_step/sec: 401.255\u001b[0m\n",
      "\u001b[31mINFO:tensorflow:loss = 1.12482, step = 601 (0.249 sec)\u001b[0m\n",
      "\u001b[31mINFO:tensorflow:global_step/sec: 389.581\u001b[0m\n",
      "\u001b[31mINFO:tensorflow:loss = 0.841731, step = 701 (0.257 sec)\u001b[0m\n",
      "\u001b[31mINFO:tensorflow:global_step/sec: 411.172\u001b[0m\n",
      "\u001b[31mINFO:tensorflow:loss = 0.970344, step = 801 (0.243 sec)\u001b[0m\n",
      "\u001b[31mINFO:tensorflow:global_step/sec: 423.094\u001b[0m\n",
      "\u001b[31mINFO:tensorflow:loss = 0.911728, step = 901 (0.236 sec)\u001b[0m\n",
      "\u001b[31mINFO:tensorflow:Starting evaluation at 2017-12-18-18:11:40\u001b[0m\n",
      "\u001b[31m2017-12-18 18:11:40.473466: I tensorflow/core/common_runtime/gpu/gpu_device.cc:1120] Creating TensorFlow device (/device:GPU:0) -> (device: 0, name: Tesla K80, pci bus id: 0000:00:1e.0, compute capability: 3.7)\u001b[0m\n",
      "\u001b[31mINFO:tensorflow:Restoring parameters from s3://peterwills-test/mnist/artifacts/sagemaker-tensorflow-py2-gpu-2017-12-18-18-04-24-202/checkpoints/model.ckpt-1\u001b[0m\n",
      "\u001b[31mINFO:tensorflow:Evaluation [1/100]\u001b[0m\n",
      "\u001b[31mINFO:tensorflow:Evaluation [2/100]\u001b[0m\n",
      "\u001b[31mINFO:tensorflow:Evaluation [3/100]\u001b[0m\n",
      "\u001b[31mINFO:tensorflow:Evaluation [4/100]\u001b[0m\n",
      "\u001b[31mINFO:tensorflow:Evaluation [5/100]\u001b[0m\n",
      "\u001b[31mINFO:tensorflow:Evaluation [6/100]\u001b[0m\n",
      "\u001b[31mINFO:tensorflow:Evaluation [7/100]\u001b[0m\n",
      "\u001b[31mINFO:tensorflow:Evaluation [8/100]\u001b[0m\n",
      "\u001b[31mINFO:tensorflow:Evaluation [9/100]\u001b[0m\n",
      "\u001b[31mINFO:tensorflow:Evaluation [10/100]\u001b[0m\n",
      "\u001b[31mINFO:tensorflow:Evaluation [11/100]\u001b[0m\n",
      "\u001b[31mINFO:tensorflow:Evaluation [12/100]\u001b[0m\n",
      "\u001b[31mINFO:tensorflow:Evaluation [13/100]\u001b[0m\n",
      "\u001b[31mINFO:tensorflow:Evaluation [14/100]\u001b[0m\n",
      "\u001b[31mINFO:tensorflow:Evaluation [15/100]\u001b[0m\n",
      "\u001b[31mINFO:tensorflow:Evaluation [16/100]\u001b[0m\n",
      "\u001b[31mINFO:tensorflow:Evaluation [17/100]\u001b[0m\n",
      "\u001b[31mINFO:tensorflow:Evaluation [18/100]\u001b[0m\n",
      "\u001b[31mINFO:tensorflow:Evaluation [19/100]\u001b[0m\n",
      "\u001b[31mINFO:tensorflow:Evaluation [20/100]\u001b[0m\n",
      "\u001b[31mINFO:tensorflow:Evaluation [21/100]\u001b[0m\n",
      "\u001b[31mINFO:tensorflow:Evaluation [22/100]\u001b[0m\n",
      "\u001b[31mINFO:tensorflow:Evaluation [23/100]\u001b[0m\n",
      "\u001b[31mINFO:tensorflow:Evaluation [24/100]\u001b[0m\n",
      "\u001b[31mINFO:tensorflow:Evaluation [25/100]\u001b[0m\n",
      "\u001b[31mINFO:tensorflow:Evaluation [26/100]\u001b[0m\n",
      "\u001b[31mINFO:tensorflow:Evaluation [27/100]\u001b[0m\n",
      "\u001b[31mINFO:tensorflow:Evaluation [28/100]\u001b[0m\n",
      "\u001b[31mINFO:tensorflow:Evaluation [29/100]\u001b[0m\n",
      "\u001b[31mINFO:tensorflow:Evaluation [30/100]\u001b[0m\n",
      "\u001b[31mINFO:tensorflow:Evaluation [31/100]\u001b[0m\n",
      "\u001b[31mINFO:tensorflow:Evaluation [32/100]\u001b[0m\n",
      "\u001b[31mINFO:tensorflow:Evaluation [33/100]\u001b[0m\n",
      "\u001b[31mINFO:tensorflow:Evaluation [34/100]\u001b[0m\n",
      "\u001b[31mINFO:tensorflow:Evaluation [35/100]\u001b[0m\n",
      "\u001b[31mINFO:tensorflow:Evaluation [36/100]\u001b[0m\n",
      "\u001b[31mINFO:tensorflow:Evaluation [37/100]\u001b[0m\n",
      "\u001b[31mINFO:tensorflow:Evaluation [38/100]\u001b[0m\n",
      "\u001b[31mINFO:tensorflow:Evaluation [39/100]\u001b[0m\n",
      "\u001b[31mINFO:tensorflow:Evaluation [40/100]\u001b[0m\n",
      "\u001b[31mINFO:tensorflow:Evaluation [41/100]\u001b[0m\n",
      "\u001b[31mINFO:tensorflow:Evaluation [42/100]\u001b[0m\n",
      "\u001b[31mINFO:tensorflow:Evaluation [43/100]\u001b[0m\n",
      "\u001b[31mINFO:tensorflow:Evaluation [44/100]\u001b[0m\n",
      "\u001b[31mINFO:tensorflow:Evaluation [45/100]\u001b[0m\n",
      "\u001b[31mINFO:tensorflow:Evaluation [46/100]\u001b[0m\n",
      "\u001b[31mINFO:tensorflow:Evaluation [47/100]\u001b[0m\n",
      "\u001b[31mINFO:tensorflow:Evaluation [48/100]\u001b[0m\n",
      "\u001b[31mINFO:tensorflow:Evaluation [49/100]\u001b[0m\n",
      "\u001b[31mINFO:tensorflow:Evaluation [50/100]\u001b[0m\n",
      "\u001b[31mINFO:tensorflow:Evaluation [51/100]\u001b[0m\n",
      "\u001b[31mINFO:tensorflow:Evaluation [52/100]\u001b[0m\n",
      "\u001b[31mINFO:tensorflow:Evaluation [53/100]\u001b[0m\n",
      "\u001b[31mINFO:tensorflow:Evaluation [54/100]\u001b[0m\n",
      "\u001b[31mINFO:tensorflow:Evaluation [55/100]\u001b[0m\n",
      "\u001b[31mINFO:tensorflow:Evaluation [56/100]\u001b[0m\n",
      "\u001b[31mINFO:tensorflow:Evaluation [57/100]\u001b[0m\n",
      "\u001b[31mINFO:tensorflow:Evaluation [58/100]\u001b[0m\n",
      "\u001b[31mINFO:tensorflow:Evaluation [59/100]\u001b[0m\n",
      "\u001b[31mINFO:tensorflow:Evaluation [60/100]\u001b[0m\n",
      "\u001b[31mINFO:tensorflow:Evaluation [61/100]\u001b[0m\n",
      "\u001b[31mINFO:tensorflow:Evaluation [62/100]\u001b[0m\n",
      "\u001b[31mINFO:tensorflow:Evaluation [63/100]\u001b[0m\n",
      "\u001b[31mINFO:tensorflow:Evaluation [64/100]\u001b[0m\n",
      "\u001b[31mINFO:tensorflow:Evaluation [65/100]\u001b[0m\n",
      "\u001b[31mINFO:tensorflow:Evaluation [66/100]\u001b[0m\n",
      "\u001b[31mINFO:tensorflow:Evaluation [67/100]\u001b[0m\n",
      "\u001b[31mINFO:tensorflow:Evaluation [68/100]\u001b[0m\n",
      "\u001b[31mINFO:tensorflow:Evaluation [69/100]\u001b[0m\n",
      "\u001b[31mINFO:tensorflow:Evaluation [70/100]\u001b[0m\n",
      "\u001b[31mINFO:tensorflow:Evaluation [71/100]\u001b[0m\n",
      "\u001b[31mINFO:tensorflow:Evaluation [72/100]\u001b[0m\n",
      "\u001b[31mINFO:tensorflow:Evaluation [73/100]\u001b[0m\n",
      "\u001b[31mINFO:tensorflow:Evaluation [74/100]\u001b[0m\n",
      "\u001b[31mINFO:tensorflow:Evaluation [75/100]\u001b[0m\n",
      "\u001b[31mINFO:tensorflow:Evaluation [76/100]\u001b[0m\n",
      "\u001b[31mINFO:tensorflow:Evaluation [77/100]\u001b[0m\n",
      "\u001b[31mINFO:tensorflow:Evaluation [78/100]\u001b[0m\n",
      "\u001b[31mINFO:tensorflow:Evaluation [79/100]\u001b[0m\n",
      "\u001b[31mINFO:tensorflow:Evaluation [80/100]\u001b[0m\n",
      "\u001b[31mINFO:tensorflow:Evaluation [81/100]\u001b[0m\n",
      "\u001b[31mINFO:tensorflow:Evaluation [82/100]\u001b[0m\n",
      "\u001b[31mINFO:tensorflow:Evaluation [83/100]\u001b[0m\n",
      "\u001b[31mINFO:tensorflow:Evaluation [84/100]\u001b[0m\n",
      "\u001b[31mINFO:tensorflow:Evaluation [85/100]\u001b[0m\n",
      "\u001b[31mINFO:tensorflow:Evaluation [86/100]\u001b[0m\n",
      "\u001b[31mINFO:tensorflow:Evaluation [87/100]\u001b[0m\n",
      "\u001b[31mINFO:tensorflow:Evaluation [88/100]\u001b[0m\n",
      "\u001b[31mINFO:tensorflow:Evaluation [89/100]\u001b[0m\n",
      "\u001b[31mINFO:tensorflow:Evaluation [90/100]\u001b[0m\n",
      "\u001b[31mINFO:tensorflow:Evaluation [91/100]\u001b[0m\n",
      "\u001b[31mINFO:tensorflow:Evaluation [92/100]\u001b[0m\n",
      "\u001b[31mINFO:tensorflow:Evaluation [93/100]\u001b[0m\n",
      "\u001b[31mINFO:tensorflow:Evaluation [94/100]\u001b[0m\n",
      "\u001b[31mINFO:tensorflow:Evaluation [95/100]\u001b[0m\n",
      "\u001b[31mINFO:tensorflow:Evaluation [96/100]\u001b[0m\n",
      "\u001b[31mINFO:tensorflow:Evaluation [97/100]\u001b[0m\n",
      "\u001b[31mINFO:tensorflow:Evaluation [98/100]\u001b[0m\n",
      "\u001b[31mINFO:tensorflow:Evaluation [99/100]\u001b[0m\n",
      "\u001b[31mINFO:tensorflow:Evaluation [100/100]\u001b[0m\n",
      "\u001b[31mINFO:tensorflow:Finished evaluation at 2017-12-18-18:11:42\u001b[0m\n",
      "\u001b[31mINFO:tensorflow:Saving dict for global step 1: accuracy = 0.102891, global_step = 1, loss = 2.38725\u001b[0m\n",
      "\u001b[31mINFO:tensorflow:Validation (step 1000): loss = 2.38725, global_step = 1, accuracy = 0.102891\u001b[0m\n",
      "\u001b[31mINFO:tensorflow:Saving checkpoints for 1000 into s3://peterwills-test/mnist/artifacts/sagemaker-tensorflow-py2-gpu-2017-12-18-18-04-24-202/checkpoints/model.ckpt.\u001b[0m\n"
     ]
    },
    {
     "name": "stdout",
     "output_type": "stream",
     "text": [
      "\u001b[31mINFO:tensorflow:Loss for final step: 0.854259.\u001b[0m\n",
      "\u001b[31mINFO:tensorflow:Starting evaluation at 2017-12-18-18:11:47\u001b[0m\n",
      "\u001b[31m2017-12-18 18:11:47.809408: I tensorflow/core/common_runtime/gpu/gpu_device.cc:1120] Creating TensorFlow device (/device:GPU:0) -> (device: 0, name: Tesla K80, pci bus id: 0000:00:1e.0, compute capability: 3.7)\u001b[0m\n",
      "\u001b[31mINFO:tensorflow:Restoring parameters from s3://peterwills-test/mnist/artifacts/sagemaker-tensorflow-py2-gpu-2017-12-18-18-04-24-202/checkpoints/model.ckpt-1000\u001b[0m\n",
      "\u001b[31mINFO:tensorflow:Evaluation [1/100]\u001b[0m\n",
      "\u001b[31mINFO:tensorflow:Evaluation [2/100]\u001b[0m\n",
      "\u001b[31mINFO:tensorflow:Evaluation [3/100]\u001b[0m\n",
      "\u001b[31mINFO:tensorflow:Evaluation [4/100]\u001b[0m\n",
      "\u001b[31mINFO:tensorflow:Evaluation [5/100]\u001b[0m\n",
      "\u001b[31mINFO:tensorflow:Evaluation [6/100]\u001b[0m\n",
      "\u001b[31mINFO:tensorflow:Evaluation [7/100]\u001b[0m\n",
      "\u001b[31mINFO:tensorflow:Evaluation [8/100]\u001b[0m\n",
      "\u001b[31mINFO:tensorflow:Evaluation [9/100]\u001b[0m\n",
      "\u001b[31mINFO:tensorflow:Evaluation [10/100]\u001b[0m\n",
      "\u001b[31mINFO:tensorflow:Evaluation [11/100]\u001b[0m\n",
      "\u001b[31mINFO:tensorflow:Evaluation [12/100]\u001b[0m\n",
      "\u001b[31mINFO:tensorflow:Evaluation [13/100]\u001b[0m\n",
      "\u001b[31mINFO:tensorflow:Evaluation [14/100]\u001b[0m\n",
      "\u001b[31mINFO:tensorflow:Evaluation [15/100]\u001b[0m\n",
      "\u001b[31mINFO:tensorflow:Evaluation [16/100]\u001b[0m\n",
      "\u001b[31mINFO:tensorflow:Evaluation [17/100]\u001b[0m\n",
      "\u001b[31mINFO:tensorflow:Evaluation [18/100]\u001b[0m\n",
      "\u001b[31mINFO:tensorflow:Evaluation [19/100]\u001b[0m\n",
      "\u001b[31mINFO:tensorflow:Evaluation [20/100]\u001b[0m\n",
      "\u001b[31mINFO:tensorflow:Evaluation [21/100]\u001b[0m\n",
      "\u001b[31mINFO:tensorflow:Evaluation [22/100]\u001b[0m\n",
      "\u001b[31mINFO:tensorflow:Evaluation [23/100]\u001b[0m\n",
      "\u001b[31mINFO:tensorflow:Evaluation [24/100]\u001b[0m\n",
      "\u001b[31mINFO:tensorflow:Evaluation [25/100]\u001b[0m\n",
      "\u001b[31mINFO:tensorflow:Evaluation [26/100]\u001b[0m\n",
      "\u001b[31mINFO:tensorflow:Evaluation [27/100]\u001b[0m\n",
      "\u001b[31mINFO:tensorflow:Evaluation [28/100]\u001b[0m\n",
      "\u001b[31mINFO:tensorflow:Evaluation [29/100]\u001b[0m\n",
      "\u001b[31mINFO:tensorflow:Evaluation [30/100]\u001b[0m\n",
      "\u001b[31mINFO:tensorflow:Evaluation [31/100]\u001b[0m\n",
      "\u001b[31mINFO:tensorflow:Evaluation [32/100]\u001b[0m\n",
      "\u001b[31mINFO:tensorflow:Evaluation [33/100]\u001b[0m\n",
      "\u001b[31mINFO:tensorflow:Evaluation [34/100]\u001b[0m\n",
      "\u001b[31mINFO:tensorflow:Evaluation [35/100]\u001b[0m\n",
      "\u001b[31mINFO:tensorflow:Evaluation [36/100]\u001b[0m\n",
      "\u001b[31mINFO:tensorflow:Evaluation [37/100]\u001b[0m\n",
      "\u001b[31mINFO:tensorflow:Evaluation [38/100]\u001b[0m\n",
      "\u001b[31mINFO:tensorflow:Evaluation [39/100]\u001b[0m\n",
      "\u001b[31mINFO:tensorflow:Evaluation [40/100]\u001b[0m\n",
      "\u001b[31mINFO:tensorflow:Evaluation [41/100]\u001b[0m\n",
      "\u001b[31mINFO:tensorflow:Evaluation [42/100]\u001b[0m\n",
      "\u001b[31mINFO:tensorflow:Evaluation [43/100]\u001b[0m\n",
      "\u001b[31mINFO:tensorflow:Evaluation [44/100]\u001b[0m\n",
      "\u001b[31mINFO:tensorflow:Evaluation [45/100]\u001b[0m\n",
      "\u001b[31mINFO:tensorflow:Evaluation [46/100]\u001b[0m\n",
      "\u001b[31mINFO:tensorflow:Evaluation [47/100]\u001b[0m\n",
      "\u001b[31mINFO:tensorflow:Evaluation [48/100]\u001b[0m\n",
      "\u001b[31mINFO:tensorflow:Evaluation [49/100]\u001b[0m\n",
      "\u001b[31mINFO:tensorflow:Evaluation [50/100]\u001b[0m\n",
      "\u001b[31mINFO:tensorflow:Evaluation [51/100]\u001b[0m\n",
      "\u001b[31mINFO:tensorflow:Evaluation [52/100]\u001b[0m\n",
      "\u001b[31mINFO:tensorflow:Evaluation [53/100]\u001b[0m\n",
      "\u001b[31mINFO:tensorflow:Evaluation [54/100]\u001b[0m\n",
      "\u001b[31mINFO:tensorflow:Evaluation [55/100]\u001b[0m\n",
      "\u001b[31mINFO:tensorflow:Evaluation [56/100]\u001b[0m\n",
      "\u001b[31mINFO:tensorflow:Evaluation [57/100]\u001b[0m\n",
      "\u001b[31mINFO:tensorflow:Evaluation [58/100]\u001b[0m\n",
      "\u001b[31mINFO:tensorflow:Evaluation [59/100]\u001b[0m\n",
      "\u001b[31mINFO:tensorflow:Evaluation [60/100]\u001b[0m\n",
      "\u001b[31mINFO:tensorflow:Evaluation [61/100]\u001b[0m\n",
      "\u001b[31mINFO:tensorflow:Evaluation [62/100]\u001b[0m\n",
      "\u001b[31mINFO:tensorflow:Evaluation [63/100]\u001b[0m\n",
      "\u001b[31mINFO:tensorflow:Evaluation [64/100]\u001b[0m\n",
      "\u001b[31mINFO:tensorflow:Evaluation [65/100]\u001b[0m\n",
      "\u001b[31mINFO:tensorflow:Evaluation [66/100]\u001b[0m\n",
      "\u001b[31mINFO:tensorflow:Evaluation [67/100]\u001b[0m\n",
      "\u001b[31mINFO:tensorflow:Evaluation [68/100]\u001b[0m\n",
      "\u001b[31mINFO:tensorflow:Evaluation [69/100]\u001b[0m\n",
      "\u001b[31mINFO:tensorflow:Evaluation [70/100]\u001b[0m\n",
      "\u001b[31mINFO:tensorflow:Evaluation [71/100]\u001b[0m\n",
      "\u001b[31mINFO:tensorflow:Evaluation [72/100]\u001b[0m\n",
      "\u001b[31mINFO:tensorflow:Evaluation [73/100]\u001b[0m\n",
      "\u001b[31mINFO:tensorflow:Evaluation [74/100]\u001b[0m\n",
      "\u001b[31mINFO:tensorflow:Evaluation [75/100]\u001b[0m\n",
      "\u001b[31mINFO:tensorflow:Evaluation [76/100]\u001b[0m\n",
      "\u001b[31mINFO:tensorflow:Evaluation [77/100]\u001b[0m\n",
      "\u001b[31mINFO:tensorflow:Evaluation [78/100]\u001b[0m\n",
      "\u001b[31mINFO:tensorflow:Evaluation [79/100]\u001b[0m\n",
      "\u001b[31mINFO:tensorflow:Evaluation [80/100]\u001b[0m\n",
      "\u001b[31mINFO:tensorflow:Evaluation [81/100]\u001b[0m\n",
      "\u001b[31mINFO:tensorflow:Evaluation [82/100]\u001b[0m\n",
      "\u001b[31mINFO:tensorflow:Evaluation [83/100]\u001b[0m\n",
      "\u001b[31mINFO:tensorflow:Evaluation [84/100]\u001b[0m\n",
      "\u001b[31mINFO:tensorflow:Evaluation [85/100]\u001b[0m\n",
      "\u001b[31mINFO:tensorflow:Evaluation [86/100]\u001b[0m\n",
      "\u001b[31mINFO:tensorflow:Evaluation [87/100]\u001b[0m\n",
      "\u001b[31mINFO:tensorflow:Evaluation [88/100]\u001b[0m\n",
      "\u001b[31mINFO:tensorflow:Evaluation [89/100]\u001b[0m\n",
      "\u001b[31mINFO:tensorflow:Evaluation [90/100]\u001b[0m\n",
      "\u001b[31mINFO:tensorflow:Evaluation [91/100]\u001b[0m\n",
      "\u001b[31mINFO:tensorflow:Evaluation [92/100]\u001b[0m\n",
      "\u001b[31mINFO:tensorflow:Evaluation [93/100]\u001b[0m\n",
      "\u001b[31mINFO:tensorflow:Evaluation [94/100]\u001b[0m\n",
      "\u001b[31mINFO:tensorflow:Evaluation [95/100]\u001b[0m\n",
      "\u001b[31mINFO:tensorflow:Evaluation [96/100]\u001b[0m\n",
      "\u001b[31mINFO:tensorflow:Evaluation [97/100]\u001b[0m\n",
      "\u001b[31mINFO:tensorflow:Evaluation [98/100]\u001b[0m\n",
      "\u001b[31mINFO:tensorflow:Evaluation [99/100]\u001b[0m\n",
      "\u001b[31mINFO:tensorflow:Evaluation [100/100]\u001b[0m\n",
      "\u001b[31mINFO:tensorflow:Finished evaluation at 2017-12-18-18:11:49\u001b[0m\n",
      "\u001b[31mINFO:tensorflow:Saving dict for global step 1000: accuracy = 0.826406, global_step = 1000, loss = 0.787426\u001b[0m\n",
      "\u001b[31m2017-12-18 18:11:50.971014: I tensorflow/core/common_runtime/gpu/gpu_device.cc:1120] Creating TensorFlow device (/device:GPU:0) -> (device: 0, name: Tesla K80, pci bus id: 0000:00:1e.0, compute capability: 3.7)\u001b[0m\n",
      "\u001b[31mINFO:tensorflow:Restoring parameters from s3://peterwills-test/mnist/artifacts/sagemaker-tensorflow-py2-gpu-2017-12-18-18-04-24-202/checkpoints/model.ckpt-1000\u001b[0m\n",
      "\u001b[31mINFO:tensorflow:Assets added to graph.\u001b[0m\n",
      "\u001b[31mINFO:tensorflow:No assets to write.\u001b[0m\n",
      "\u001b[31mINFO:tensorflow:SavedModel written to: s3://peterwills-test/mnist/artifacts/sagemaker-tensorflow-py2-gpu-2017-12-18-18-04-24-202/checkpoints/export/Servo/temp-1513620710/saved_model.pb\u001b[0m\n",
      "\u001b[31mINFO:tensorflow:writing success training\u001b[0m\n",
      "\u001b[31m2017-12-18 18:11:54,082 INFO - botocore.vendored.requests.packages.urllib3.connectionpool - Starting new HTTPS connection (1): s3.amazonaws.com\u001b[0m\n",
      "\u001b[31m2017-12-18 18:11:54,236 INFO - tf_container.serve - Downloaded saved model at /opt/ml/model/export/Servo/1513620710/saved_model.pb\u001b[0m\n",
      "===== Job Complete =====\n",
      "CPU times: user 564 ms, sys: 24 ms, total: 588 ms\n",
      "Wall time: 8min 9s\n"
     ]
    }
   ],
   "source": [
    "%%time\n",
    "data_loc = 's3://peterwills-test/MNIST-data'\n",
    "mnist_clf.fit(data_loc)"
   ]
  },
  {
   "cell_type": "code",
   "execution_count": 37,
   "metadata": {
    "scrolled": true
   },
   "outputs": [
    {
     "name": "stderr",
     "output_type": "stream",
     "text": [
      "INFO:sagemaker:Creating model with name: sagemaker-tensorflow-py2-gpu-2017-12-18-18-04-24-202\n",
      "INFO:sagemaker:Creating endpoint with name sagemaker-tensorflow-py2-gpu-2017-12-18-18-04-24-202\n"
     ]
    },
    {
     "name": "stdout",
     "output_type": "stream",
     "text": [
      "-------------------------------------------------------------------------------------------------------------------------------------------------!CPU times: user 664 ms, sys: 24 ms, total: 688 ms\n",
      "Wall time: 12min 19s\n"
     ]
    }
   ],
   "source": [
    "%%time\n",
    "mnist_predictor = mnist_clf.deploy(initial_instance_count=1,instance_type='ml.c4.xlarge')"
   ]
  },
  {
   "cell_type": "code",
   "execution_count": 39,
   "metadata": {
    "scrolled": true
   },
   "outputs": [],
   "source": [
    "tensor_proto = tf.make_tensor_proto(values=np.asarray(test_image), \n",
    "                                    shape=[1, len(test_image)], \n",
    "                                    dtype=tf.float32)\n",
    "\n",
    "predictions = mnist_predictor.predict(tensor_proto)"
   ]
  },
  {
   "cell_type": "code",
   "execution_count": 41,
   "metadata": {},
   "outputs": [
    {
     "data": {
      "text/plain": [
       "{'outputs': {'logits': {'dtype': 'DT_FLOAT',\n",
       "   'floatVal': [0.5936474204063416,\n",
       "    -0.1599368155002594,\n",
       "    0.5846495628356934,\n",
       "    0.12370593845844269,\n",
       "    0.06490009278059006,\n",
       "    0.022376229986548424,\n",
       "    0.6902269124984741,\n",
       "    -0.9378727078437805,\n",
       "    0.18018554151058197,\n",
       "    -0.6290104985237122],\n",
       "   'tensorShape': {'dim': [{'size': '1'}, {'size': '10'}]}}}}"
      ]
     },
     "execution_count": 41,
     "metadata": {},
     "output_type": "execute_result"
    }
   ],
   "source": [
    "predictions"
   ]
  },
  {
   "cell_type": "code",
   "execution_count": 42,
   "metadata": {},
   "outputs": [
    {
     "data": {
      "image/png": "[encoded data removed]",
      "text/plain": [
       "<matplotlib.figure.Figure at 0x7fe48f6a87f0>"
      ]
     },
     "metadata": {},
     "output_type": "display_data"
    }
   ],
   "source": [
    "# our model returns logits, not percentages, so no conversion is necessary\n",
    "pd.Series(predictions['outputs']['logits']['floatVal']).plot.bar()\n",
    "plt.title('MNIST Classifier Probabilities');\n",
    "plt.xlabel('Digits');\n",
    "plt.ylabel('Probabilities in Logits');"
   ]
  },
  {
   "cell_type": "code",
   "execution_count": 43,
   "metadata": {},
   "outputs": [
    {
     "name": "stderr",
     "output_type": "stream",
     "text": [
      "INFO:sagemaker:Deleting endpoint with name: sagemaker-tensorflow-py2-gpu-2017-12-18-18-04-24-202\n"
     ]
    }
   ],
   "source": [
    "# delete the endpoint when you're done to save resources\n",
    "sm.Session().delete_endpoint(mnist_predictor.endpoint)"
   ]
  }
 ],
 "metadata": {
  "kernelspec": {
   "display_name": "conda_tensorflow_p36",
   "language": "python",
   "name": "conda_tensorflow_p36"
  },
  "language_info": {
   "codemirror_mode": {
    "name": "ipython",
    "version": 3
   },
   "file_extension": ".py",
   "mimetype": "text/x-python",
   "name": "python",
   "nbconvert_exporter": "python",
   "pygments_lexer": "ipython3",
   "version": "3.6.2"
  }
 },
 "nbformat": 4,
 "nbformat_minor": 2
}
