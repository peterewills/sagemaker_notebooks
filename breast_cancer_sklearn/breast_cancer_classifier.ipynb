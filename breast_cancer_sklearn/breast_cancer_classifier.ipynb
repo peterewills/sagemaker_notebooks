{
 "cells": [
  {
   "cell_type": "markdown",
   "metadata": {},
   "source": [
    "# Build the container"
   ]
  },
  {
   "cell_type": "code",
   "execution_count": null,
   "metadata": {},
   "outputs": [],
   "source": [
    "%%sh \n",
    "#docker rmi -f $(docker images -q) || true\n",
    "#docker ps -q -a -f status=exited | xargs -n 100 docker rm -v\n",
    "\n",
    "#run this to clear out stale docker images and containers. sometimes they bake bad things into thier layers.\n",
    "#ignore errors"
   ]
  },
  {
   "cell_type": "code",
   "execution_count": 34,
   "metadata": {},
   "outputs": [
    {
     "name": "stdout",
     "output_type": "stream",
     "text": [
      "Sending build context to Docker daemon   51.2kB\r",
      "\r\n",
      "Step 1/10 : FROM ubuntu:16.04\n",
      " ---> 00fd29ccc6f1\n",
      "Step 2/10 : LABEL maintainer \"v-peter.wills@thetradedesk.com\"\n",
      " ---> Using cache\n",
      " ---> a62d8afd29d5\n",
      "Step 3/10 : RUN apt-get -y update     && apt-get install -y --no-install-recommends          wget          python          nginx          ca-certificates     && rm -rf /var/lib/apt/lists/*\n",
      " ---> Running in f4e424558e49\n",
      "Err:1 http://archive.ubuntu.com/ubuntu xenial InRelease\n",
      "  Temporary failure resolving 'archive.ubuntu.com'\n",
      "Err:2 http://security.ubuntu.com/ubuntu xenial-security InRelease\n",
      "  Temporary failure resolving 'security.ubuntu.com'\n",
      "Err:3 http://archive.ubuntu.com/ubuntu xenial-updates InRelease\n",
      "  Temporary failure resolving 'archive.ubuntu.com'\n",
      "Err:4 http://archive.ubuntu.com/ubuntu xenial-backports InRelease\n",
      "  Temporary failure resolving 'archive.ubuntu.com'\n",
      "Reading package lists...\n",
      "\u001b[91mW: Failed to fetch http://archive.ubuntu.com/ubuntu/dists/xenial/InRelease  Temporary failure resolving 'archive.ubuntu.com'\n",
      "W: Failed to fetch http://archive.ubuntu.com/ubuntu/dists/xenial-updates/InRelease  Temporary failure resolving 'archive.ubuntu.com'\n",
      "W: Failed to fetch http://archive.ubuntu.com/ubuntu/dists/xenial-backports/InRelease  Temporary failure resolving 'archive.ubuntu.com'\n",
      "W: Failed to fetch http://security.ubuntu.com/ubuntu/dists/xenial-security/InRelease  Temporary failure resolving 'security.ubuntu.com'\n",
      "W: Some index files failed to download. They have been ignored, or old ones used instead.\n",
      "\u001b[0mReading package lists...\n",
      "Building dependency tree...\n",
      "Reading state information...\n",
      "\u001b[91mE: Unable to locate package wget\n",
      "E: Unable to locate package python\n",
      "E: Unable to locate package nginx\n",
      "E: Unable to locate package ca-certificates\n",
      "\u001b[0mThe push refers to a repository [470403475418.dkr.ecr.1.amazonaws.com/breast-cancer-nb-bh3]\n"
     ]
    },
    {
     "name": "stderr",
     "output_type": "stream",
     "text": [
      "\n",
      "Could not connect to the endpoint URL: \"https://ecr.1.amazonaws.com/\"\n",
      "The command '/bin/sh -c apt-get -y update     && apt-get install -y --no-install-recommends          wget          python          nginx          ca-certificates     && rm -rf /var/lib/apt/lists/*' returned a non-zero code: 100\n",
      "Error response from daemon: No such image: breast-cancer-nb-bh3:latest\n",
      "An image does not exist locally with the tag: 470403475418.dkr.ecr.1.amazonaws.com/breast-cancer-nb-bh3\n"
     ]
    }
   ],
   "source": [
    "%%bash \n",
    "cd container\n",
    "chmod 755 build_push.sh\n",
    "./build_push.sh breast-cancer-nb-bh3\n",
    "\n",
    "\n",
    "# you can, it appears you just needed to chmod the build_push.sh\n",
    "# also, %%sh might be a little more standard. although, totally not sure and the script headlines: #!/usr/bin/env bash. \n",
    "# . === source, so instead of source <<script>> you can just ./<<script>> for convenience\n",
    "# -bh\n"
   ]
  },
  {
   "cell_type": "code",
   "execution_count": null,
   "metadata": {
    "collapsed": true
   },
   "outputs": [],
   "source": [
    "# S3 prefix\n",
    "prefix = 'breastCancerNB'\n",
    "\n",
    "# Define IAM role\n",
    "import boto3\n",
    "import re\n",
    "import os\n",
    "import numpy as np\n",
    "import pandas as pd\n",
    "import sagemaker as sage\n",
    "from time import gmtime, strftime\n",
    "\n",
    "sess = sage.Session()\n",
    "role = sage.get_execution_role()"
   ]
  },
  {
   "cell_type": "markdown",
   "metadata": {},
   "source": [
    "# Build training data"
   ]
  },
  {
   "cell_type": "code",
   "execution_count": null,
   "metadata": {
    "collapsed": true
   },
   "outputs": [],
   "source": [
    "if not os.path.exists('training_data/breast_cancer.csv'):\n",
    "    from sklearn.datasets import load_breast_cancer\n",
    "    import pandas as pd\n",
    "\n",
    "    breast_cancer = load_breast_cancer()\n",
    "    data = pd.concat([pd.Series(breast_cancer.target),\n",
    "                      pd.DataFrame(breast_cancer.data)],axis=1)\n",
    "    data.to_csv('training_data/breast_cancer.csv',header=False,index=False)"
   ]
  },
  {
   "cell_type": "markdown",
   "metadata": {},
   "source": [
    "# Upload training data into S3"
   ]
  },
  {
   "cell_type": "code",
   "execution_count": null,
   "metadata": {},
   "outputs": [],
   "source": [
    "WORK_DIRECTORY = 'training_data'\n",
    "data_location = sess.upload_data(WORK_DIRECTORY, key_prefix=prefix)\n",
    "\n",
    "print('Contents of directory {} now in S3 at {}'.format(WORK_DIRECTORY,data_location))"
   ]
  },
  {
   "cell_type": "code",
   "execution_count": null,
   "metadata": {},
   "outputs": [],
   "source": [
    "account = sess.boto_session.client('sts').get_caller_identity()['Account']\n",
    "region = sess.boto_session.region_name\n",
    "image = '{}.dkr.ecr.{}.amazonaws.com/breast-cancer-nb'.format(account, region)\n",
    "\n",
    "print('Location of Docker image is {}'.format(image))"
   ]
  },
  {
   "cell_type": "code",
   "execution_count": null,
   "metadata": {},
   "outputs": [],
   "source": [
    "%%time\n",
    "from sagemaker.estimator import Estimator\n",
    "\n",
    "output_path = \"s3://{}/output\".format(sess.default_bucket())\n",
    "clf = Estimator(image_name = image,\n",
    "                role = role, \n",
    "                train_instance_count = 1, \n",
    "                train_instance_type = 'ml.c4.2xlarge',\n",
    "                output_path = output_path,\n",
    "                sagemaker_session = sess)\n",
    "\n",
    "clf.fit(data_location)"
   ]
  },
  {
   "cell_type": "code",
   "execution_count": null,
   "metadata": {},
   "outputs": [],
   "source": [
    "%%time\n",
    "from sagemaker.predictor import csv_serializer\n",
    "predictor = clf.deploy(initial_instance_count = 1,\n",
    "                       instance_type = 'ml.m4.xlarge', \n",
    "                       serializer=csv_serializer)"
   ]
  },
  {
   "cell_type": "code",
   "execution_count": null,
   "metadata": {
    "collapsed": true
   },
   "outputs": [],
   "source": []
  }
 ],
 "metadata": {
  "kernelspec": {
   "display_name": "conda_python3",
   "language": "python",
   "name": "conda_python3"
  },
  "language_info": {
   "codemirror_mode": {
    "name": "ipython",
    "version": 3
   },
   "file_extension": ".py",
   "mimetype": "text/x-python",
   "name": "python",
   "nbconvert_exporter": "python",
   "pygments_lexer": "ipython3",
   "version": "3.6.2"
  }
 },
 "nbformat": 4,
 "nbformat_minor": 2
}
