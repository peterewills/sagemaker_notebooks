{
 "cells": [
  {
   "cell_type": "markdown",
   "metadata": {},
   "source": [
    "# Build the container"
   ]
  },
  {
   "cell_type": "code",
   "execution_count": 1,
   "metadata": {},
   "outputs": [
    {
     "name": "stdout",
     "output_type": "stream",
     "text": [
      "Login Succeeded\n",
      "Sending build context to Docker daemon   51.2kB\r",
      "\r\n",
      "Step 1/9 : FROM ubuntu:16.04\n",
      "16.04: Pulling from library/ubuntu\n",
      "50aff78429b1: Pulling fs layer\n",
      "f6d82e297bce: Pulling fs layer\n",
      "275abb2c8a6f: Pulling fs layer\n",
      "9f15a39356d6: Pulling fs layer\n",
      "fc0342a94c89: Pulling fs layer\n",
      "9f15a39356d6: Waiting\n",
      "fc0342a94c89: Waiting\n",
      "275abb2c8a6f: Verifying Checksum\n",
      "275abb2c8a6f: Download complete\n",
      "f6d82e297bce: Verifying Checksum\n",
      "f6d82e297bce: Download complete\n",
      "9f15a39356d6: Verifying Checksum\n",
      "9f15a39356d6: Download complete\n",
      "fc0342a94c89: Verifying Checksum\n",
      "fc0342a94c89: Download complete\n",
      "50aff78429b1: Verifying Checksum\n",
      "50aff78429b1: Download complete\n",
      "50aff78429b1: Pull complete\n",
      "f6d82e297bce: Pull complete\n",
      "275abb2c8a6f: Pull complete\n",
      "9f15a39356d6: Pull complete\n",
      "fc0342a94c89: Pull complete\n",
      "Digest: sha256:ec0e4e8bf2c1178e025099eed57c566959bb408c6b478c284c1683bc4298b683\n",
      "Status: Downloaded newer image for ubuntu:16.04\n",
      " ---> 00fd29ccc6f1\n",
      "Step 2/9 : LABEL maintainer \"v-peter.wills@thetradedesk.com\"\n",
      " ---> Running in 9733260f0824\n",
      " ---> c8a8567cd1a8\n",
      "Removing intermediate container 9733260f0824\n",
      "Step 3/9 : RUN apt-get -y update && apt-get install -y --no-install-recommends          wget          python          nginx          ca-certificates     && rm -rf /var/lib/apt/lists/*\n",
      " ---> Running in d5c05e1304c0\n",
      "Err:1 http://archive.ubuntu.com/ubuntu xenial InRelease\n",
      "  Temporary failure resolving 'archive.ubuntu.com'\n",
      "Err:2 http://security.ubuntu.com/ubuntu xenial-security InRelease\n",
      "  Temporary failure resolving 'security.ubuntu.com'\n",
      "Err:3 http://archive.ubuntu.com/ubuntu xenial-updates InRelease\n",
      "  Temporary failure resolving 'archive.ubuntu.com'\n",
      "Err:4 http://archive.ubuntu.com/ubuntu xenial-backports InRelease\n",
      "  Temporary failure resolving 'archive.ubuntu.com'\n",
      "Reading package lists...\n",
      "\u001b[91mW: Failed to fetch http://archive.ubuntu.com/ubuntu/dists/xenial/InRelease  Temporary failure resolving 'archive.ubuntu.com'\n",
      "W: Failed to fetch http://archive.ubuntu.com/ubuntu/dists/xenial-updates/InRelease  Temporary failure resolving 'archive.ubuntu.com'\n",
      "W: Failed to fetch http://archive.ubuntu.com/ubuntu/dists/xenial-backports/InRelease  Temporary failure resolving 'archive.ubuntu.com'\n",
      "W: Failed to fetch http://security.ubuntu.com/ubuntu/dists/xenial-security/InRelease  Temporary failure resolving 'security.ubuntu.com'\n",
      "W: Some index files failed to download. They have been ignored, or old ones used instead.\n",
      "\u001b[0mReading package lists...\n",
      "Building dependency tree...\n",
      "Reading state information...\n",
      "\u001b[91mE: Unable to locate package wget\n",
      "E: Unable to locate package python\n",
      "E: Unable to locate package nginx\n",
      "E: Unable to locate package ca-certificates\n",
      "\u001b[0mThe push refers to a repository [470403475418.dkr.ecr.us-east-1.amazonaws.com/breast-cancer-nb]\n"
     ]
    },
    {
     "name": "stderr",
     "output_type": "stream",
     "text": [
      "The command '/bin/sh -c apt-get -y update && apt-get install -y --no-install-recommends          wget          python          nginx          ca-certificates     && rm -rf /var/lib/apt/lists/*' returned a non-zero code: 100\n",
      "Error response from daemon: No such image: breast-cancer-nb:latest\n",
      "An image does not exist locally with the tag: 470403475418.dkr.ecr.us-east-1.amazonaws.com/breast-cancer-nb\n"
     ]
    }
   ],
   "source": [
    "%%bash\n",
    "cd container\n",
    "source build_push.sh breast-cancer-nb"
   ]
  },
  {
   "cell_type": "code",
   "execution_count": 2,
   "metadata": {
    "collapsed": true
   },
   "outputs": [],
   "source": [
    "# S3 prefix\n",
    "prefix = 'breastCancerNB'\n",
    "\n",
    "# Define IAM role\n",
    "import boto3\n",
    "import re\n",
    "import os\n",
    "import numpy as np\n",
    "import pandas as pd\n",
    "import sagemaker as sage\n",
    "from time import gmtime, strftime\n",
    "\n",
    "sess = sage.Session()\n",
    "role = sage.get_execution_role()"
   ]
  },
  {
   "cell_type": "markdown",
   "metadata": {},
   "source": [
    "# Build training data"
   ]
  },
  {
   "cell_type": "code",
   "execution_count": 3,
   "metadata": {
    "collapsed": true
   },
   "outputs": [],
   "source": [
    "if not os.path.exists('training_data/breast_cancer.csv'):\n",
    "    from sklearn.datasets import load_breast_cancer\n",
    "    import pandas as pd\n",
    "\n",
    "    breast_cancer = load_breast_cancer()\n",
    "    data = pd.concat([pd.Series(breast_cancer.target),\n",
    "                      pd.DataFrame(breast_cancer.data)],axis=1)\n",
    "    data.to_csv('training_data/breast_cancer.csv',header=False,index=False)"
   ]
  },
  {
   "cell_type": "markdown",
   "metadata": {},
   "source": [
    "# Upload training data into S3"
   ]
  },
  {
   "cell_type": "code",
   "execution_count": 4,
   "metadata": {},
   "outputs": [
    {
     "name": "stderr",
     "output_type": "stream",
     "text": [
      "INFO:sagemaker:Created S3 bucket: sagemaker-us-east-1-470403475418\n"
     ]
    },
    {
     "name": "stdout",
     "output_type": "stream",
     "text": [
      "Contents of directory training_data now in S3 at s3://sagemaker-us-east-1-470403475418/breastCancerNB\n"
     ]
    }
   ],
   "source": [
    "WORK_DIRECTORY = 'training_data'\n",
    "data_location = sess.upload_data(WORK_DIRECTORY, key_prefix=prefix)\n",
    "\n",
    "print('Contents of directory {} now in S3 at {}'.format(WORK_DIRECTORY,data_location))"
   ]
  },
  {
   "cell_type": "code",
   "execution_count": null,
   "metadata": {},
   "outputs": [
    {
     "name": "stdout",
     "output_type": "stream",
     "text": [
      "Location of Docker image is 470403475418.dkr.ecr.us-east-1.amazonaws.com/breast-cancer-nb\n"
     ]
    }
   ],
   "source": [
    "account = sess.boto_session.client('sts').get_caller_identity()['Account']\n",
    "region = sess.boto_session.region_name\n",
    "image = '{}.dkr.ecr.{}.amazonaws.com/breast-cancer-nb'.format(account, region)\n",
    "\n",
    "print('Location of Docker image is {}'.format(image))"
   ]
  },
  {
   "cell_type": "code",
   "execution_count": null,
   "metadata": {},
   "outputs": [
    {
     "name": "stderr",
     "output_type": "stream",
     "text": [
      "INFO:sagemaker:Creating training-job with name: breast-cancer-nb-2017-12-19-15-58-52-318\n"
     ]
    },
    {
     "name": "stdout",
     "output_type": "stream",
     "text": [
      "......................."
     ]
    }
   ],
   "source": [
    "from sagemaker.estimator import Estimator\n",
    "\n",
    "output_path = \"s3://{}/output\".format(sess.default_bucket())\n",
    "clf = Estimator(image_name = image,\n",
    "                role = role, \n",
    "                train_instance_count = 1, \n",
    "                train_instance_type = 'ml.c4.2xlarge',\n",
    "                output_path = output_path,\n",
    "                sagemaker_session = sess)\n",
    "\n",
    "clf.fit(data_location)"
   ]
  }
 ],
 "metadata": {
  "kernelspec": {
   "display_name": "conda_python3",
   "language": "python",
   "name": "conda_python3"
  },
  "language_info": {
   "codemirror_mode": {
    "name": "ipython",
    "version": 3
   },
   "file_extension": ".py",
   "mimetype": "text/x-python",
   "name": "python",
   "nbconvert_exporter": "python",
   "pygments_lexer": "ipython3",
   "version": "3.6.2"
  }
 },
 "nbformat": 4,
 "nbformat_minor": 2
}
