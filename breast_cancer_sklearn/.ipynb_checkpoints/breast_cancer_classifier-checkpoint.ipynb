{
 "cells": [
  {
   "cell_type": "markdown",
   "metadata": {},
   "source": [
    "# Build the container"
   ]
  },
  {
   "cell_type": "code",
   "execution_count": null,
   "metadata": {},
   "outputs": [],
   "source": [
    "%%sh \n",
    "#docker rmi -f $(docker images -q) || true\n",
    "#docker ps -q -a -f status=exited | xargs -n 100 docker rm -v\n",
    "\n",
    "#run this to clear out stale docker images and containers. sometimes they bake bad things into thier layers.\n",
    "#ignore errors"
   ]
  },
  {
   "cell_type": "code",
   "execution_count": null,
   "metadata": {},
   "outputs": [],
   "source": [
    "%%bash \n",
    "cd container\n",
    "chmod 755 build_push.sh\n",
    "./build_push.sh breast-cancer-nb-bh3\n",
    "\n",
    "\n",
    "# you can, it appears you just needed to chmod the build_push.sh\n",
    "# also, %%sh might be a little more standard. although, totally not sure and the script headlines: #!/usr/bin/env bash. \n",
    "# . === source, so instead of source <<script>> you can just ./<<script>> for convenience\n",
    "# -bh\n"
   ]
  },
  {
   "cell_type": "code",
   "execution_count": null,
   "metadata": {
    "collapsed": true
   },
   "outputs": [],
   "source": [
    "# S3 prefix\n",
    "prefix = 'breastCancerNB'\n",
    "\n",
    "# Define IAM role\n",
    "import boto3\n",
    "import re\n",
    "import os\n",
    "import numpy as np\n",
    "import pandas as pd\n",
    "import sagemaker as sage\n",
    "from time import gmtime, strftime\n",
    "\n",
    "sess = sage.Session()\n",
    "role = sage.get_execution_role()"
   ]
  },
  {
   "cell_type": "markdown",
   "metadata": {},
   "source": [
    "# Build training data"
   ]
  },
  {
   "cell_type": "code",
   "execution_count": null,
   "metadata": {
    "collapsed": true
   },
   "outputs": [],
   "source": [
    "if not os.path.exists('training_data/breast_cancer.csv'):\n",
    "    from sklearn.datasets import load_breast_cancer\n",
    "    import pandas as pd\n",
    "\n",
    "    breast_cancer = load_breast_cancer()\n",
    "    data = pd.concat([pd.Series(breast_cancer.target),\n",
    "                      pd.DataFrame(breast_cancer.data)],axis=1)\n",
    "    data.to_csv('training_data/breast_cancer.csv',header=False,index=False)"
   ]
  },
  {
   "cell_type": "markdown",
   "metadata": {},
   "source": [
    "# Upload training data into S3"
   ]
  },
  {
   "cell_type": "code",
   "execution_count": null,
   "metadata": {},
   "outputs": [],
   "source": [
    "WORK_DIRECTORY = 'training_data'\n",
    "data_location = sess.upload_data(WORK_DIRECTORY, key_prefix=prefix)\n",
    "\n",
    "print('Contents of directory {} now in S3 at {}'.format(WORK_DIRECTORY,data_location))"
   ]
  },
  {
   "cell_type": "code",
   "execution_count": null,
   "metadata": {},
   "outputs": [],
   "source": [
    "account = sess.boto_session.client('sts').get_caller_identity()['Account']\n",
    "region = sess.boto_session.region_name\n",
    "image = '{}.dkr.ecr.{}.amazonaws.com/breast-cancer-nb'.format(account, region)\n",
    "\n",
    "print('Location of Docker image is {}'.format(image))"
   ]
  },
  {
   "cell_type": "code",
   "execution_count": null,
   "metadata": {},
   "outputs": [],
   "source": [
    "%%time\n",
    "from sagemaker.estimator import Estimator\n",
    "\n",
    "output_path = \"s3://{}/output\".format(sess.default_bucket())\n",
    "clf = Estimator(image_name = image,\n",
    "                role = role, \n",
    "                train_instance_count = 1, \n",
    "                train_instance_type = 'ml.c4.2xlarge',\n",
    "                output_path = output_path,\n",
    "                sagemaker_session = sess)\n",
    "\n",
    "clf.fit(data_location)"
   ]
  },
  {
   "cell_type": "code",
   "execution_count": null,
   "metadata": {},
   "outputs": [],
   "source": [
    "%%time\n",
    "from sagemaker.predictor import csv_serializer\n",
    "predictor = clf.deploy(initial_instance_count = 1,\n",
    "                       instance_type = 'ml.m4.xlarge', \n",
    "                       serializer=csv_serializer)"
   ]
  },
  {
   "cell_type": "code",
   "execution_count": null,
   "metadata": {
    "collapsed": true
   },
   "outputs": [],
   "source": []
  }
 ],
 "metadata": {
  "kernelspec": {
   "display_name": "conda_python3",
   "language": "python",
   "name": "conda_python3"
  },
  "language_info": {
   "codemirror_mode": {
    "name": "ipython",
    "version": 3
   },
   "file_extension": ".py",
   "mimetype": "text/x-python",
   "name": "python",
   "nbconvert_exporter": "python",
   "pygments_lexer": "ipython3",
   "version": "3.6.2"
  }
 },
 "nbformat": 4,
 "nbformat_minor": 2
}
