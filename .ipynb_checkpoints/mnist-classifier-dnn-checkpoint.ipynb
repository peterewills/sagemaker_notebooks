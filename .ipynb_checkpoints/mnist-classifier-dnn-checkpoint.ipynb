{
 "cells": [
  {
   "cell_type": "code",
   "execution_count": 2,
   "metadata": {},
   "outputs": [
    {
     "name": "stderr",
     "output_type": "stream",
     "text": [
      "/home/ec2-user/anaconda3/envs/tensorflow_p36/lib/python3.6/importlib/_bootstrap.py:205: RuntimeWarning: compiletime version 3.5 of module 'tensorflow.python.framework.fast_tensor_util' does not match runtime version 3.6\n",
      "  return f(*args, **kwds)\n"
     ]
    }
   ],
   "source": [
    "import sagemaker as sm\n",
    "import pandas as pd\n",
    "import numpy as np\n",
    "import tensorflow as tf\n",
    "import boto3\n",
    "from matplotlib import pyplot as plt\n",
    "%matplotlib inline"
   ]
  },
  {
   "cell_type": "markdown",
   "metadata": {},
   "source": [
    "# MNIST Digit Classification with TensorFlow\n",
    "\n",
    "We're going to try and run a classifier on the classic MNIST data set. We'll put the data in an S3 bucket we create and pull it into this notebook, then spin up an instance for training. Finally, we'll make an endpoint, and use it to test against.\n",
    "\n",
    "I made a notebook that shows how to use the TensorFlow `estimator` API (which is a higher level of abstraction than directly building a net). So, some of the details of that are omitted here. Insofar as we're using TensorFlow, there's some convoluted syntax, but we're big boys and girls, so we can handle it.\n",
    "\n",
    "This notebook (more or less) follows the one that can be found in\n",
    "\n",
    "    sample-notebooks/sagemaker-python-sdk/tensorflow_iris_dnn_classifier_using_estimators\n",
    "    \n",
    "I wanted to rewrite it myself with a slightly different dataset to make sure I understood it.\n",
    "\n",
    "# Initialize Variables"
   ]
  },
  {
   "cell_type": "code",
   "execution_count": 3,
   "metadata": {
    "collapsed": true
   },
   "outputs": [],
   "source": [
    "#Bucket location to save your custom code in tar.gz format.\n",
    "custom_code_upload_location = 's3://peterwills-test/mnist/customcode/tensorflow_iris'\n",
    "\n",
    "#Bucket location where results of model training are saved.\n",
    "model_artifacts_location = 's3://peterwills-test/mnist/artifacts'\n",
    "\n",
    "#IAM execution role that gives SageMaker access to resources in your AWS account.\n",
    "role = sm.get_execution_role()"
   ]
  },
  {
   "cell_type": "code",
   "execution_count": 4,
   "metadata": {},
   "outputs": [
    {
     "data": {
      "text/plain": [
       "'arn:aws:iam::470403475418:role/service-role/AmazonSageMaker-ExecutionRole-20171201T101195'"
      ]
     },
     "execution_count": 4,
     "metadata": {},
     "output_type": "execute_result"
    }
   ],
   "source": [
    "role"
   ]
  },
  {
   "cell_type": "markdown",
   "metadata": {},
   "source": [
    "The fundamental object here is a `sm.tensorflow.TensorFlow` estimator."
   ]
  },
  {
   "cell_type": "code",
   "execution_count": 5,
   "metadata": {},
   "outputs": [],
   "source": [
    "from sagemaker.tensorflow import TensorFlow"
   ]
  },
  {
   "cell_type": "markdown",
   "metadata": {},
   "source": [
    "This estimator is built on top of a model, defined in the model script `mnist_dnn_clf.py`. The logic of the setup of the script `mnist_dnn_clf.py` is given in [the `sagemaker` docs](https://github.com/aws/sagemaker-python-sdk#tensorflow-sagemaker-estimators). There's particular syntax, function names, etc required to make it an acceptable training script for a `sagemaker.tensorflow.TensorFlow` object. Let's examine this object, because it's so fundamental to this process:"
   ]
  },
  {
   "cell_type": "code",
   "execution_count": 9,
   "metadata": {
    "collapsed": true
   },
   "outputs": [],
   "source": [
    "?TensorFlow"
   ]
  },
  {
   "cell_type": "code",
   "execution_count": 10,
   "metadata": {
    "collapsed": true
   },
   "outputs": [],
   "source": [
    "mnist_clf = TensorFlow(entry_point = 'mnist_dnn_clf.py',\n",
    "                       role = role,\n",
    "                       output_path = model_artifacts_location,\n",
    "                       code_location = custom_code_upload_location,\n",
    "                       train_instance_count = 1,\n",
    "                       train_instance_type = 'ml.p2.xlarge',\n",
    "                       training_steps = 1000,\n",
    "                       evaluation_steps = 100)"
   ]
  },
  {
   "cell_type": "markdown",
   "metadata": {},
   "source": [
    "Now we call the `.fit()` method on the estimator. Note that the file names within the directory `data_loc` are given in the script `mnist_dnn_clf.py`."
   ]
  },
  {
   "cell_type": "code",
   "execution_count": 11,
   "metadata": {
    "scrolled": true
   },
   "outputs": [
    {
     "name": "stderr",
     "output_type": "stream",
     "text": [
      "INFO:sagemaker:Creating training-job with name: sagemaker-tensorflow-py2-gpu-2017-12-12-19-01-43-484\n"
     ]
    },
    {
     "name": "stdout",
     "output_type": "stream",
     "text": [
      "...................................................................................\n",
      "\u001b[31m executing startup script (first run)\n",
      " 2017-12-12 19:08:35,408 INFO - root - running container entrypoint\n",
      " 2017-12-12 19:08:35,409 INFO - root - starting train task\u001b[0m\n",
      "\u001b[31m 2017-12-12 19:08:38,157 INFO - botocore.vendored.requests.packages.urllib3.connectionpool - Starting new HTTP connection (1): 169.254.170.2\u001b[0m\n",
      "\u001b[31m 2017-12-12 19:08:39,657 INFO - botocore.vendored.requests.packages.urllib3.connectionpool - Starting new HTTPS connection (1): s3.amazonaws.com\n",
      " 2017-12-12 19:08:39,779 INFO - botocore.vendored.requests.packages.urllib3.connectionpool - Starting new HTTPS connection (1): s3.amazonaws.com\n",
      " INFO:tensorflow:----------------------TF_CONFIG--------------------------\n",
      " INFO:tensorflow:{\"environment\": \"cloud\", \"cluster\": {\"master\": [\"algo-1:2222\"]}, \"task\": {\"index\": 0, \"type\": \"master\"}}\n",
      " INFO:tensorflow:---------------------------------------------------------\n",
      " INFO:tensorflow:going to training\n",
      " 2017-12-12 19:08:39,827 INFO - root - creating RunConfig:\n",
      " 2017-12-12 19:08:39,828 INFO - root - {'save_checkpoints_secs': 300}\n",
      " 2017-12-12 19:08:39,828 INFO - root - invoking estimator_fn\n",
      " INFO:tensorflow:Using config: {'_model_dir': u's3://peterwills-test/mnist/artifacts/sagemaker-tensorflow-py2-gpu-2017-12-12-19-01-43-484/checkpoints', '_save_checkpoints_secs': 300, '_num_ps_replicas': 0, '_keep_checkpoint_max': 5, '_session_config': None, '_tf_random_seed': None, '_task_type': u'master', '_environment': u'cloud', '_is_chief': True, '_cluster_spec': <tensorflow.python.training.server_lib.ClusterSpec object at 0x7f97a1e7c090>, '_tf_config': gpu_options {\n",
      "   per_process_gpu_memory_fraction: 1.0\n",
      " }\n",
      " , '_num_worker_replicas': 1, '_task_id': 0, '_save_summary_steps': 100, '_save_checkpoints_steps': None, '_evaluation_master': '', '_keep_checkpoint_every_n_hours': 10000, '_master': '', '_log_step_count_steps': 100}\n",
      " 2017-12-12 19:08:39,829 INFO - root - creating Experiment:\n",
      " 2017-12-12 19:08:39,830 INFO - root - {'min_eval_frequency': 1000}\n",
      " WARNING:tensorflow:From /usr/local/lib/python2.7/dist-packages/tensorflow/contrib/learn/python/learn/monitors.py:267: __init__ (from tensorflow.contrib.learn.python.learn.monitors) is deprecated and will be removed after 2016-12-05.\n",
      " Instructions for updating:\n",
      " Monitors are deprecated. Please use tf.train.SessionRunHook.\u001b[0m\n",
      "\u001b[31m INFO:tensorflow:Create CheckpointSaverHook.\u001b[0m\n",
      "\u001b[31m 2017-12-12 19:08:51.900849: I tensorflow/core/platform/cpu_feature_guard.cc:137] Your CPU supports instructions that this TensorFlow binary was not compiled to use: SSE4.1 SSE4.2 AVX AVX2 FMA\n",
      " 2017-12-12 19:08:52.050164: I tensorflow/stream_executor/cuda/cuda_gpu_executor.cc:892] successful NUMA node read from SysFS had negative value (-1), but there must be at least one NUMA node, so returning NUMA node zero\n",
      " 2017-12-12 19:08:52.050509: I tensorflow/core/common_runtime/gpu/gpu_device.cc:1030] Found device 0 with properties: \n",
      " name: Tesla K80 major: 3 minor: 7 memoryClockRate(GHz): 0.8755\n",
      " pciBusID: 0000:00:1e.0\n",
      " totalMemory: 11.17GiB freeMemory: 11.10GiB\n",
      " 2017-12-12 19:08:52.050543: I tensorflow/core/common_runtime/gpu/gpu_device.cc:1120] Creating TensorFlow device (/device:GPU:0) -> (device: 0, name: Tesla K80, pci bus id: 0000:00:1e.0, compute capability: 3.7)\u001b[0m\n",
      "\u001b[31m INFO:tensorflow:Saving checkpoints for 1 into s3://peterwills-test/mnist/artifacts/sagemaker-tensorflow-py2-gpu-2017-12-12-19-01-43-484/checkpoints/model.ckpt.\u001b[0m\n",
      "\u001b[31m INFO:tensorflow:loss = 299.148, step = 1\u001b[0m\n",
      "\u001b[31m INFO:tensorflow:global_step/sec: 314.124\n",
      " INFO:tensorflow:loss = 42.7151, step = 101 (0.318 sec)\n",
      " INFO:tensorflow:global_step/sec: 353.88\n",
      " INFO:tensorflow:loss = 19.8992, step = 201 (0.283 sec)\n",
      " INFO:tensorflow:global_step/sec: 355.547\n",
      " INFO:tensorflow:loss = 27.9332, step = 301 (0.281 sec)\n",
      " INFO:tensorflow:global_step/sec: 338.788\n",
      " INFO:tensorflow:loss = 24.0429, step = 401 (0.295 sec)\u001b[0m\n",
      "\u001b[31m INFO:tensorflow:global_step/sec: 352.333\n",
      " INFO:tensorflow:loss = 17.0359, step = 501 (0.284 sec)\n",
      " INFO:tensorflow:global_step/sec: 359.808\n",
      " INFO:tensorflow:loss = 15.9177, step = 601 (0.278 sec)\n",
      " INFO:tensorflow:global_step/sec: 343.84\n",
      " INFO:tensorflow:loss = 9.52526, step = 701 (0.291 sec)\n",
      " INFO:tensorflow:global_step/sec: 353.579\n",
      " INFO:tensorflow:loss = 16.1691, step = 801 (0.283 sec)\u001b[0m\n",
      "\u001b[31m INFO:tensorflow:global_step/sec: 357.334\n",
      " INFO:tensorflow:loss = 15.2507, step = 901 (0.280 sec)\u001b[0m\n",
      "\u001b[31m INFO:tensorflow:Starting evaluation at 2017-12-12-19:09:04\n",
      " 2017-12-12 19:09:04.683351: I tensorflow/core/common_runtime/gpu/gpu_device.cc:1120] Creating TensorFlow device (/device:GPU:0) -> (device: 0, name: Tesla K80, pci bus id: 0000:00:1e.0, compute capability: 3.7)\n",
      " INFO:tensorflow:Restoring parameters from s3://peterwills-test/mnist/artifacts/sagemaker-tensorflow-py2-gpu-2017-12-12-19-01-43-484/checkpoints/model.ckpt-1\u001b[0m\n",
      "\u001b[31m INFO:tensorflow:Evaluation [1/100]\n",
      " INFO:tensorflow:Evaluation [2/100]\n",
      " INFO:tensorflow:Evaluation [3/100]\n",
      " INFO:tensorflow:Evaluation [4/100]\n",
      " INFO:tensorflow:Evaluation [5/100]\n",
      " INFO:tensorflow:Evaluation [6/100]\n",
      " INFO:tensorflow:Evaluation [7/100]\n",
      " INFO:tensorflow:Evaluation [8/100]\n",
      " INFO:tensorflow:Evaluation [9/100]\n",
      " INFO:tensorflow:Evaluation [10/100]\n",
      " INFO:tensorflow:Evaluation [11/100]\n",
      " INFO:tensorflow:Evaluation [12/100]\n",
      " INFO:tensorflow:Evaluation [13/100]\n",
      " INFO:tensorflow:Evaluation [14/100]\n",
      " INFO:tensorflow:Evaluation [15/100]\n",
      " INFO:tensorflow:Evaluation [16/100]\n",
      " INFO:tensorflow:Evaluation [17/100]\n",
      " INFO:tensorflow:Evaluation [18/100]\n",
      " INFO:tensorflow:Evaluation [19/100]\n",
      " INFO:tensorflow:Evaluation [20/100]\n",
      " INFO:tensorflow:Evaluation [21/100]\n",
      " INFO:tensorflow:Evaluation [22/100]\n",
      " INFO:tensorflow:Evaluation [23/100]\n",
      " INFO:tensorflow:Evaluation [24/100]\n",
      " INFO:tensorflow:Evaluation [25/100]\n",
      " INFO:tensorflow:Evaluation [26/100]\n",
      " INFO:tensorflow:Evaluation [27/100]\n",
      " INFO:tensorflow:Evaluation [28/100]\n",
      " INFO:tensorflow:Evaluation [29/100]\n",
      " INFO:tensorflow:Evaluation [30/100]\n",
      " INFO:tensorflow:Evaluation [31/100]\n",
      " INFO:tensorflow:Evaluation [32/100]\n",
      " INFO:tensorflow:Evaluation [33/100]\n",
      " INFO:tensorflow:Evaluation [34/100]\n",
      " INFO:tensorflow:Evaluation [35/100]\n",
      " INFO:tensorflow:Evaluation [36/100]\n",
      " INFO:tensorflow:Evaluation [37/100]\n",
      " INFO:tensorflow:Evaluation [38/100]\n",
      " INFO:tensorflow:Evaluation [39/100]\n",
      " INFO:tensorflow:Evaluation [40/100]\n",
      " INFO:tensorflow:Evaluation [41/100]\n",
      " INFO:tensorflow:Evaluation [42/100]\n",
      " INFO:tensorflow:Evaluation [43/100]\n",
      " INFO:tensorflow:Evaluation [44/100]\n",
      " INFO:tensorflow:Evaluation [45/100]\n",
      " INFO:tensorflow:Evaluation [46/100]\n",
      " INFO:tensorflow:Evaluation [47/100]\n",
      " INFO:tensorflow:Evaluation [48/100]\n",
      " INFO:tensorflow:Evaluation [49/100]\n",
      " INFO:tensorflow:Evaluation [50/100]\n",
      " INFO:tensorflow:Evaluation [51/100]\n",
      " INFO:tensorflow:Evaluation [52/100]\n",
      " INFO:tensorflow:Evaluation [53/100]\n",
      " INFO:tensorflow:Evaluation [54/100]\n",
      " INFO:tensorflow:Evaluation [55/100]\n",
      " INFO:tensorflow:Evaluation [56/100]\n",
      " INFO:tensorflow:Evaluation [57/100]\n",
      " INFO:tensorflow:Evaluation [58/100]\n",
      " INFO:tensorflow:Evaluation [59/100]\n",
      " INFO:tensorflow:Evaluation [60/100]\n",
      " INFO:tensorflow:Evaluation [61/100]\n",
      " INFO:tensorflow:Evaluation [62/100]\n",
      " INFO:tensorflow:Evaluation [63/100]\n",
      " INFO:tensorflow:Evaluation [64/100]\n",
      " INFO:tensorflow:Evaluation [65/100]\n",
      " INFO:tensorflow:Evaluation [66/100]\n",
      " INFO:tensorflow:Evaluation [67/100]\n",
      " INFO:tensorflow:Evaluation [68/100]\n",
      " INFO:tensorflow:Evaluation [69/100]\n",
      " INFO:tensorflow:Evaluation [70/100]\n",
      " INFO:tensorflow:Evaluation [71/100]\n",
      " INFO:tensorflow:Evaluation [72/100]\n",
      " INFO:tensorflow:Evaluation [73/100]\n",
      " INFO:tensorflow:Evaluation [74/100]\n",
      " INFO:tensorflow:Evaluation [75/100]\n",
      " INFO:tensorflow:Evaluation [76/100]\n",
      " INFO:tensorflow:Evaluation [77/100]\n",
      " INFO:tensorflow:Evaluation [78/100]\n",
      " INFO:tensorflow:Evaluation [79/100]\n",
      " INFO:tensorflow:Evaluation [80/100]\n",
      " INFO:tensorflow:Evaluation [81/100]\n",
      " INFO:tensorflow:Evaluation [82/100]\n",
      " INFO:tensorflow:Evaluation [83/100]\n",
      " INFO:tensorflow:Evaluation [84/100]\n",
      " INFO:tensorflow:Evaluation [85/100]\n",
      " INFO:tensorflow:Evaluation [86/100]\n",
      " INFO:tensorflow:Evaluation [87/100]\n",
      " INFO:tensorflow:Evaluation [88/100]\n",
      " INFO:tensorflow:Evaluation [89/100]\n",
      " INFO:tensorflow:Evaluation [90/100]\n",
      " INFO:tensorflow:Evaluation [91/100]\n",
      " INFO:tensorflow:Evaluation [92/100]\n",
      " INFO:tensorflow:Evaluation [93/100]\n",
      " INFO:tensorflow:Evaluation [94/100]\n",
      " INFO:tensorflow:Evaluation [95/100]\n",
      " INFO:tensorflow:Evaluation [96/100]\n",
      " INFO:tensorflow:Evaluation [97/100]\n",
      " INFO:tensorflow:Evaluation [98/100]\n",
      " INFO:tensorflow:Evaluation [99/100]\n",
      " INFO:tensorflow:Evaluation [100/100]\n",
      " INFO:tensorflow:Finished evaluation at 2017-12-12-19:09:06\n",
      " INFO:tensorflow:Saving dict for global step 1: accuracy = 0.0969531, average_loss = 9.42624, global_step = 1, loss = 1206.56\u001b[0m\n",
      "\u001b[31m INFO:tensorflow:Validation (step 1000): average_loss = 9.42624, accuracy = 0.0969531, global_step = 1, loss = 1206.56\n",
      " INFO:tensorflow:Saving checkpoints for 1000 into s3://peterwills-test/mnist/artifacts/sagemaker-tensorflow-py2-gpu-2017-12-12-19-01-43-484/checkpoints/model.ckpt.\u001b[0m\n"
     ]
    },
    {
     "name": "stdout",
     "output_type": "stream",
     "text": [
      "\u001b[31m INFO:tensorflow:Loss for final step: 15.5377.\u001b[0m\n",
      "\u001b[31m INFO:tensorflow:Starting evaluation at 2017-12-12-19:09:14\n",
      " 2017-12-12 19:09:14.223089: I tensorflow/core/common_runtime/gpu/gpu_device.cc:1120] Creating TensorFlow device (/device:GPU:0) -> (device: 0, name: Tesla K80, pci bus id: 0000:00:1e.0, compute capability: 3.7)\n",
      " INFO:tensorflow:Restoring parameters from s3://peterwills-test/mnist/artifacts/sagemaker-tensorflow-py2-gpu-2017-12-12-19-01-43-484/checkpoints/model.ckpt-1000\u001b[0m\n",
      "\u001b[31m INFO:tensorflow:Evaluation [1/100]\n",
      " INFO:tensorflow:Evaluation [2/100]\n",
      " INFO:tensorflow:Evaluation [3/100]\n",
      " INFO:tensorflow:Evaluation [4/100]\n",
      " INFO:tensorflow:Evaluation [5/100]\n",
      " INFO:tensorflow:Evaluation [6/100]\n",
      " INFO:tensorflow:Evaluation [7/100]\n",
      " INFO:tensorflow:Evaluation [8/100]\n",
      " INFO:tensorflow:Evaluation [9/100]\n",
      " INFO:tensorflow:Evaluation [10/100]\n",
      " INFO:tensorflow:Evaluation [11/100]\n",
      " INFO:tensorflow:Evaluation [12/100]\n",
      " INFO:tensorflow:Evaluation [13/100]\n",
      " INFO:tensorflow:Evaluation [14/100]\n",
      " INFO:tensorflow:Evaluation [15/100]\n",
      " INFO:tensorflow:Evaluation [16/100]\n",
      " INFO:tensorflow:Evaluation [17/100]\n",
      " INFO:tensorflow:Evaluation [18/100]\n",
      " INFO:tensorflow:Evaluation [19/100]\n",
      " INFO:tensorflow:Evaluation [20/100]\n",
      " INFO:tensorflow:Evaluation [21/100]\n",
      " INFO:tensorflow:Evaluation [22/100]\n",
      " INFO:tensorflow:Evaluation [23/100]\n",
      " INFO:tensorflow:Evaluation [24/100]\n",
      " INFO:tensorflow:Evaluation [25/100]\n",
      " INFO:tensorflow:Evaluation [26/100]\n",
      " INFO:tensorflow:Evaluation [27/100]\n",
      " INFO:tensorflow:Evaluation [28/100]\n",
      " INFO:tensorflow:Evaluation [29/100]\n",
      " INFO:tensorflow:Evaluation [30/100]\n",
      " INFO:tensorflow:Evaluation [31/100]\n",
      " INFO:tensorflow:Evaluation [32/100]\n",
      " INFO:tensorflow:Evaluation [33/100]\n",
      " INFO:tensorflow:Evaluation [34/100]\n",
      " INFO:tensorflow:Evaluation [35/100]\n",
      " INFO:tensorflow:Evaluation [36/100]\n",
      " INFO:tensorflow:Evaluation [37/100]\n",
      " INFO:tensorflow:Evaluation [38/100]\n",
      " INFO:tensorflow:Evaluation [39/100]\n",
      " INFO:tensorflow:Evaluation [40/100]\n",
      " INFO:tensorflow:Evaluation [41/100]\n",
      " INFO:tensorflow:Evaluation [42/100]\n",
      " INFO:tensorflow:Evaluation [43/100]\n",
      " INFO:tensorflow:Evaluation [44/100]\n",
      " INFO:tensorflow:Evaluation [45/100]\n",
      " INFO:tensorflow:Evaluation [46/100]\n",
      " INFO:tensorflow:Evaluation [47/100]\n",
      " INFO:tensorflow:Evaluation [48/100]\n",
      " INFO:tensorflow:Evaluation [49/100]\n",
      " INFO:tensorflow:Evaluation [50/100]\n",
      " INFO:tensorflow:Evaluation [51/100]\n",
      " INFO:tensorflow:Evaluation [52/100]\n",
      " INFO:tensorflow:Evaluation [53/100]\n",
      " INFO:tensorflow:Evaluation [54/100]\n",
      " INFO:tensorflow:Evaluation [55/100]\n",
      " INFO:tensorflow:Evaluation [56/100]\n",
      " INFO:tensorflow:Evaluation [57/100]\n",
      " INFO:tensorflow:Evaluation [58/100]\n",
      " INFO:tensorflow:Evaluation [59/100]\n",
      " INFO:tensorflow:Evaluation [60/100]\n",
      " INFO:tensorflow:Evaluation [61/100]\n",
      " INFO:tensorflow:Evaluation [62/100]\n",
      " INFO:tensorflow:Evaluation [63/100]\n",
      " INFO:tensorflow:Evaluation [64/100]\n",
      " INFO:tensorflow:Evaluation [65/100]\n",
      " INFO:tensorflow:Evaluation [66/100]\n",
      " INFO:tensorflow:Evaluation [67/100]\n",
      " INFO:tensorflow:Evaluation [68/100]\n",
      " INFO:tensorflow:Evaluation [69/100]\n",
      " INFO:tensorflow:Evaluation [70/100]\n",
      " INFO:tensorflow:Evaluation [71/100]\n",
      " INFO:tensorflow:Evaluation [72/100]\n",
      " INFO:tensorflow:Evaluation [73/100]\n",
      " INFO:tensorflow:Evaluation [74/100]\n",
      " INFO:tensorflow:Evaluation [75/100]\n",
      " INFO:tensorflow:Evaluation [76/100]\n",
      " INFO:tensorflow:Evaluation [77/100]\n",
      " INFO:tensorflow:Evaluation [78/100]\n",
      " INFO:tensorflow:Evaluation [79/100]\n",
      " INFO:tensorflow:Evaluation [80/100]\n",
      " INFO:tensorflow:Evaluation [81/100]\n",
      " INFO:tensorflow:Evaluation [82/100]\n",
      " INFO:tensorflow:Evaluation [83/100]\n",
      " INFO:tensorflow:Evaluation [84/100]\n",
      " INFO:tensorflow:Evaluation [85/100]\n",
      " INFO:tensorflow:Evaluation [86/100]\n",
      " INFO:tensorflow:Evaluation [87/100]\n",
      " INFO:tensorflow:Evaluation [88/100]\n",
      " INFO:tensorflow:Evaluation [89/100]\n",
      " INFO:tensorflow:Evaluation [90/100]\n",
      " INFO:tensorflow:Evaluation [91/100]\n",
      " INFO:tensorflow:Evaluation [92/100]\n",
      " INFO:tensorflow:Evaluation [93/100]\n",
      " INFO:tensorflow:Evaluation [94/100]\n",
      " INFO:tensorflow:Evaluation [95/100]\n",
      " INFO:tensorflow:Evaluation [96/100]\n",
      " INFO:tensorflow:Evaluation [97/100]\n",
      " INFO:tensorflow:Evaluation [98/100]\n",
      " INFO:tensorflow:Evaluation [99/100]\n",
      " INFO:tensorflow:Evaluation [100/100]\n",
      " INFO:tensorflow:Finished evaluation at 2017-12-12-19:09:16\n",
      " INFO:tensorflow:Saving dict for global step 1000: accuracy = 0.961719, average_loss = 0.122271, global_step = 1000, loss = 15.6507\u001b[0m\n",
      "\u001b[31m 2017-12-12 19:09:16.682292: I tensorflow/core/common_runtime/gpu/gpu_device.cc:1120] Creating TensorFlow device (/device:GPU:0) -> (device: 0, name: Tesla K80, pci bus id: 0000:00:1e.0, compute capability: 3.7)\n",
      " INFO:tensorflow:Restoring parameters from s3://peterwills-test/mnist/artifacts/sagemaker-tensorflow-py2-gpu-2017-12-12-19-01-43-484/checkpoints/model.ckpt-1000\u001b[0m\n",
      "\u001b[31m INFO:tensorflow:Assets added to graph.\n",
      " INFO:tensorflow:No assets to write.\u001b[0m\n",
      "\u001b[31m INFO:tensorflow:SavedModel written to: s3://peterwills-test/mnist/artifacts/sagemaker-tensorflow-py2-gpu-2017-12-12-19-01-43-484/checkpoints/export/Servo/temp-1513105756/saved_model.pb\u001b[0m\n",
      "\u001b[31m INFO:tensorflow:writing success training\n",
      " 2017-12-12 19:09:20,873 INFO - botocore.vendored.requests.packages.urllib3.connectionpool - Starting new HTTPS connection (1): s3.amazonaws.com\n",
      " 2017-12-12 19:09:20,983 INFO - tf_container.serve - Downloaded saved model at /opt/ml/model/export/Servo/1513105756/saved_model.pb\u001b[0m\n",
      "===== Job Complete =====\n",
      "CPU times: user 680 ms, sys: 32 ms, total: 712 ms\n",
      "Wall time: 8min 19s\n"
     ]
    }
   ],
   "source": [
    "%%time\n",
    "data_loc = 's3://peterwills-test/MNIST-data'\n",
    "mnist_clf.fit(data_loc)"
   ]
  },
  {
   "cell_type": "markdown",
   "metadata": {},
   "source": [
    "Looks like it worked!"
   ]
  },
  {
   "cell_type": "markdown",
   "metadata": {},
   "source": [
    "# Use Classifier to Predict\n",
    "\n",
    "## Instantiate an Endpoint\n",
    "\n",
    "Now we'll spin up an endpoint that allows us to make predictions."
   ]
  },
  {
   "cell_type": "code",
   "execution_count": 17,
   "metadata": {
    "scrolled": true
   },
   "outputs": [
    {
     "name": "stderr",
     "output_type": "stream",
     "text": [
      "INFO:sagemaker:Creating model with name: sagemaker-tensorflow-py2-gpu-2017-12-12-19-01-43-484\n",
      "INFO:sagemaker:Creating endpoint with name sagemaker-tensorflow-py2-gpu-2017-12-12-19-01-43-484\n"
     ]
    },
    {
     "name": "stdout",
     "output_type": "stream",
     "text": [
      "---------------------------------------------------------------------------------------------------------------------------------------------------!CPU times: user 612 ms, sys: 32 ms, total: 644 ms\n",
      "Wall time: 12min 29s\n"
     ]
    }
   ],
   "source": [
    "%%time\n",
    "mnist_predictor = mnist_clf.deploy(initial_instance_count=1,instance_type='ml.c4.xlarge')"
   ]
  },
  {
   "cell_type": "markdown",
   "metadata": {},
   "source": [
    "Let's pull in a few samples from our training data set to see what prediction we have for them:"
   ]
  },
  {
   "cell_type": "code",
   "execution_count": 18,
   "metadata": {
    "collapsed": true
   },
   "outputs": [],
   "source": [
    "# download file from s3 to this directory\n",
    "s3 = boto3.resource('s3')\n",
    "s3.Bucket('peterwills-test').download_file('MNIST-data/mnist_test.csv', 'mnist_test.csv')\n",
    "\n",
    "# put into pandas to grab first row:\n",
    "mnist_test = pd.read_csv('mnist_test.csv')"
   ]
  },
  {
   "cell_type": "code",
   "execution_count": 19,
   "metadata": {},
   "outputs": [],
   "source": [
    "# separate row into data and label\n",
    "test_image = np.array(mnist_test.iloc[10,:-1])\n",
    "test_label = np.array(mnist_test.iloc[10,-1])"
   ]
  },
  {
   "cell_type": "code",
   "execution_count": 20,
   "metadata": {},
   "outputs": [
    {
     "name": "stdout",
     "output_type": "stream",
     "text": [
      "Label given in 6\n"
     ]
    },
    {
     "data": {
      "image/png": "[encoded data removed]",
      "text/plain": [
       "<matplotlib.figure.Figure at 0x7fbb6e5d8ba8>"
      ]
     },
     "metadata": {},
     "output_type": "display_data"
    }
   ],
   "source": [
    "# take a look to make sure it all makes sense\n",
    "plt.imshow(test_image.reshape(28,28));\n",
    "print('Label given in {}'.format(test_label))"
   ]
  },
  {
   "cell_type": "markdown",
   "metadata": {},
   "source": [
    "Now, let's run our predictor on it:"
   ]
  },
  {
   "cell_type": "code",
   "execution_count": 22,
   "metadata": {},
   "outputs": [],
   "source": [
    "predictions = mnist_predictor.predict(test_image)"
   ]
  },
  {
   "cell_type": "markdown",
   "metadata": {},
   "source": [
    "Our predictor gives us the output in a weird nested-dictionary format, so we'll use the below function to convert it to a series for nice plotting."
   ]
  },
  {
   "cell_type": "code",
   "execution_count": 47,
   "metadata": {
    "collapsed": true
   },
   "outputs": [],
   "source": [
    "def prediction_series(predictions):\n",
    "    \"\"\"Transform output of SageMaker predictor into a Pandas series\"\"\"\n",
    "    prediction_list = predictions['result']['classifications'][0]['classes']\n",
    "    results = pd.Series()\n",
    "    for prediction in prediction_list:\n",
    "        results[prediction['label']] = prediction['score']\n",
    "    return results"
   ]
  },
  {
   "cell_type": "code",
   "execution_count": 41,
   "metadata": {},
   "outputs": [],
   "source": [
    "# logits are nicer than raw probabilities\n",
    "def logit(p):\n",
    "    return np.log(p/(1-p))"
   ]
  },
  {
   "cell_type": "markdown",
   "metadata": {},
   "source": [
    "Now we're ready to plot the output (in log-odds) of our predictor."
   ]
  },
  {
   "cell_type": "code",
   "execution_count": 48,
   "metadata": {
    "scrolled": true
   },
   "outputs": [
    {
     "data": {
      "image/png": "[encoded data removed]",
      "text/plain": [
       "<matplotlib.figure.Figure at 0x7fbb6f14c748>"
      ]
     },
     "metadata": {},
     "output_type": "display_data"
    }
   ],
   "source": [
    "logit(prediction_series(predictions)).plot.bar()\n",
    "plt.title('MNIST Classifier Probabilities');\n",
    "plt.xlabel('Digits');\n",
    "plt.ylabel('Probabilities in Logits');"
   ]
  },
  {
   "cell_type": "markdown",
   "metadata": {},
   "source": [
    "Beautiful. We see that the correct digit 6 is highly favored. Now let's get rid of the endpoint, since we're not going to keep using it.\n",
    "\n",
    "### Delete Endpoint"
   ]
  },
  {
   "cell_type": "code",
   "execution_count": 46,
   "metadata": {},
   "outputs": [
    {
     "name": "stderr",
     "output_type": "stream",
     "text": [
      "INFO:sagemaker:Deleting endpoint with name: sagemaker-tensorflow-py2-gpu-2017-12-12-19-01-43-484\n"
     ]
    }
   ],
   "source": [
    "# delete the endpoint when you're done to save resources\n",
    "sm.Session().delete_endpoint(mnist_predictor.endpoint)"
   ]
  },
  {
   "cell_type": "markdown",
   "metadata": {},
   "source": [
    "# Using Custom Model\n",
    "\n",
    "Now we'll repeat the process, but using the model script `mnist_custom_model_clf.py`. This one doesn't use the pre-packaged `tf.estimator.DNNClassifier`, but rather defines a custom model. This may become important to us in the future."
   ]
  },
  {
   "cell_type": "code",
   "execution_count": 8,
   "metadata": {
    "collapsed": true
   },
   "outputs": [],
   "source": [
    "mnist_clf = TensorFlow(entry_point = 'mnist_custom_model_clf.py',\n",
    "                       role = role,\n",
    "                       output_path = model_artifacts_location,\n",
    "                       code_location = custom_code_upload_location,\n",
    "                       train_instance_count = 1,\n",
    "                       train_instance_type = 'ml.p2.xlarge',\n",
    "                       training_steps = 1000,\n",
    "                       evaluation_steps = 100)"
   ]
  },
  {
   "cell_type": "code",
   "execution_count": 9,
   "metadata": {},
   "outputs": [
    {
     "name": "stderr",
     "output_type": "stream",
     "text": [
      "INFO:sagemaker:Creating training-job with name: sagemaker-tensorflow-py2-gpu-2017-12-12-21-09-30-135\n"
     ]
    },
    {
     "name": "stdout",
     "output_type": "stream",
     "text": [
      "......................................................................................\n",
      "\u001b[31m executing startup script (first run)\n",
      " 2017-12-12 21:16:37,090 INFO - root - running container entrypoint\n",
      " 2017-12-12 21:16:37,090 INFO - root - starting train task\u001b[0m\n",
      "\u001b[31m 2017-12-12 21:16:40,008 INFO - botocore.vendored.requests.packages.urllib3.connectionpool - Starting new HTTP connection (1): 169.254.170.2\u001b[0m\n",
      "\u001b[31m 2017-12-12 21:16:41,581 INFO - botocore.vendored.requests.packages.urllib3.connectionpool - Starting new HTTPS connection (1): s3.amazonaws.com\u001b[0m\n",
      "\u001b[31m 2017-12-12 21:16:42,054 INFO - botocore.vendored.requests.packages.urllib3.connectionpool - Starting new HTTPS connection (1): s3.amazonaws.com\n",
      " INFO:tensorflow:----------------------TF_CONFIG--------------------------\n",
      " INFO:tensorflow:{\"environment\": \"cloud\", \"cluster\": {\"master\": [\"algo-1:2222\"]}, \"task\": {\"index\": 0, \"type\": \"master\"}}\n",
      " INFO:tensorflow:---------------------------------------------------------\n",
      " INFO:tensorflow:going to training\n",
      " 2017-12-12 21:16:42,087 INFO - root - creating RunConfig:\n",
      " 2017-12-12 21:16:42,087 INFO - root - {'save_checkpoints_secs': 300}\n",
      " 2017-12-12 21:16:42,087 INFO - root - creating the estimator\n",
      " INFO:tensorflow:Using config: {'_model_dir': u's3://peterwills-test/mnist/artifacts/sagemaker-tensorflow-py2-gpu-2017-12-12-21-09-30-135/checkpoints', '_save_checkpoints_secs': 300, '_num_ps_replicas': 0, '_keep_checkpoint_max': 5, '_session_config': None, '_tf_random_seed': None, '_task_type': u'master', '_environment': u'cloud', '_is_chief': True, '_cluster_spec': <tensorflow.python.training.server_lib.ClusterSpec object at 0x7f0722d53990>, '_tf_config': gpu_options {\n",
      "   per_process_gpu_memory_fraction: 1.0\n",
      " }\n",
      " , '_num_worker_replicas': 1, '_task_id': 0, '_save_summary_steps': 100, '_save_checkpoints_steps': None, '_evaluation_master': '', '_keep_checkpoint_every_n_hours': 10000, '_master': '', '_log_step_count_steps': 100}\n",
      " 2017-12-12 21:16:42,089 INFO - root - creating Experiment:\n",
      " 2017-12-12 21:16:42,089 INFO - root - {'min_eval_frequency': 1000}\n",
      " WARNING:tensorflow:From /usr/local/lib/python2.7/dist-packages/tensorflow/contrib/learn/python/learn/monitors.py:267: __init__ (from tensorflow.contrib.learn.python.learn.monitors) is deprecated and will be removed after 2016-12-05.\n",
      " Instructions for updating:\n",
      " Monitors are deprecated. Please use tf.train.SessionRunHook.\u001b[0m\n",
      "\u001b[31m ERROR:tensorflow:writing error\n",
      " ERROR:tensorflow:error file is\n",
      " ERROR:tensorflow:\n",
      " Exception during training:\n",
      " Rank mismatch: Rank of labels (received 1) should equal rank of logits minus 1 (received 1).\n",
      " Traceback (most recent call last):\n",
      "   File \"/opt/amazon/lib/python2.7/site-packages/tf_container/run.py\", line 20, in train_and_log_exceptions\n",
      "     test_wrapper.train()\n",
      "   File \"/opt/amazon/lib/python2.7/site-packages/tf_container/trainer.py\", line 113, in train\n",
      "     learn_runner.run(experiment_fn, self.training_path)\n",
      "   File \"/usr/local/lib/python2.7/dist-packages/tensorflow/contrib/learn/python/learn/learn_runner.py\", line 218, in run\n",
      "     return _execute_schedule(experiment, schedule)\n",
      "   File \"/usr/local/lib/python2.7/dist-packages/tensorflow/contrib/learn/python/learn/learn_runner.py\", line 46, in _execute_schedule\n",
      "     return task()\n",
      "   File \"/usr/local/lib/python2.7/dist-packages/tensorflow/contrib/learn/python/learn/experiment.py\", line 625, in train_and_evaluate\n",
      "     self.train(delay_secs=0)\n",
      "   File \"/usr/local/lib/python2.7/dist-packages/tensorflow/contrib/learn/python/learn/experiment.py\", line 367, in train\n",
      "     hooks=self._train_monitors + extra_hooks)\n",
      "   File \"/usr/local/lib/python2.7/dist-packages/tensorflow/contrib/learn/python/learn/experiment.py\", line 807, in _call_train\n",
      "     hooks=hooks)\n",
      "   File \"/usr/local/lib/python2.7/dist-packages/tensorflow/python/estimator/estimator.py\", line 302, in train\n",
      "     loss = self._train_model(input_fn, hooks, saving_listeners)\n",
      "   File \"/usr/local/lib/python2.7/dist-packages/tensorflow/python/estimator/estimator.py\", line 711, in _train_model\n",
      "     features, labels, model_fn_lib.ModeKeys.TRAIN, self.config)\n",
      "   File \"/usr/local/lib/python2.7/dist-packages/tensorflow/python/estimator/estimator.py\", line 694, in _call_model_fn\n",
      "     model_fn_results = self._model_fn(features=features, **kwargs)\n",
      "   File \"/opt/amazon/lib/python2.7/site-packages/tf_container/trainer.py\", line 169, in _model_fn\n",
      "     return self.customer_script.model_fn(features, labels, mode, params)\n",
      "   File \"/opt/ml/code/mnist_custom_model_clf.py\", line 41, in model_fn\n",
      "     labels=labels,logits=predictions)\n",
      "   File \"/usr/local/lib/python2.7/dist-packages/tensorflow/python/ops/nn_ops.py\", line 1875, in sparse_softmax_cross_entropy_with_logits\n",
      "     (labels_static_shape.ndims, logits.get_shape().ndims))\n",
      " ValueError: Rank mismatch: Rank of labels (received 1) should equal rank of logits minus 1 (received 1).\n",
      " \n",
      " \u001b[0m\n"
     ]
    },
    {
     "ename": "ValueError",
     "evalue": "Error training sagemaker-tensorflow-py2-gpu-2017-12-12-21-09-30-135: Failed Reason: AlgorithmError: \nException during training:\nRank mismatch: Rank of labels (received 1) should equal rank of logits minus 1 (received 1).\nTraceback (most recent call last):\n  File \"/opt/amazon/lib/python2.7/site-packages/tf_container/run.py\", line 20, in train_and_log_exceptions\n    test_wrapper.train()\n  File \"/opt/amazon/lib/python2.7/site-packages/tf_container/trainer.py\", line 113, in train\n    learn_runner.run(experiment_fn, self.training_path)\n  File \"/usr/local/lib/python2.7/dist-packages/tensorflow/contrib/learn/python/learn/learn_runner.py\", line 218, in run\n    return _execute_schedule(experiment, schedule)\n  File \"/usr/local/lib/python2.7/dist-packages/tensorflow/contrib/learn/python/learn/learn_runner.py\", line 46, in _execute_schedule\n    return task()\n  File \"/usr/local/lib/python2.7/dist-packages/tensorflow/contrib/learn/python/learn/experiment.py\", line 625, in train_and_evaluate\n    self.train(delay_secs=0)\n  File \"/usr/local/lib/python2.7/dist-packages/tensorflow/contrib/learn/python/learn/ex",
     "output_type": "error",
     "traceback": [
      "\u001b[0;31m---------------------------------------------------------------------------\u001b[0m",
      "\u001b[0;31mValueError\u001b[0m                                Traceback (most recent call last)",
      "\u001b[0;32m<timed exec>\u001b[0m in \u001b[0;36m<module>\u001b[0;34m()\u001b[0m\n",
      "\u001b[0;32m~/anaconda3/envs/tensorflow_p36/lib/python3.6/site-packages/sagemaker/tensorflow/estimator.py\u001b[0m in \u001b[0;36mfit\u001b[0;34m(self, inputs, wait, logs, job_name, run_tensorboard_locally)\u001b[0m\n\u001b[1;32m    164\u001b[0m                 \u001b[0mtensorboard\u001b[0m\u001b[0;34m.\u001b[0m\u001b[0mevent\u001b[0m\u001b[0;34m.\u001b[0m\u001b[0mset\u001b[0m\u001b[0;34m(\u001b[0m\u001b[0;34m)\u001b[0m\u001b[0;34m\u001b[0m\u001b[0m\n\u001b[1;32m    165\u001b[0m         \u001b[0;32melse\u001b[0m\u001b[0;34m:\u001b[0m\u001b[0;34m\u001b[0m\u001b[0m\n\u001b[0;32m--> 166\u001b[0;31m             \u001b[0mfit_super\u001b[0m\u001b[0;34m(\u001b[0m\u001b[0;34m)\u001b[0m\u001b[0;34m\u001b[0m\u001b[0m\n\u001b[0m\u001b[1;32m    167\u001b[0m \u001b[0;34m\u001b[0m\u001b[0m\n\u001b[1;32m    168\u001b[0m     \u001b[0;34m@\u001b[0m\u001b[0mclassmethod\u001b[0m\u001b[0;34m\u001b[0m\u001b[0m\n",
      "\u001b[0;32m~/anaconda3/envs/tensorflow_p36/lib/python3.6/site-packages/sagemaker/tensorflow/estimator.py\u001b[0m in \u001b[0;36mfit_super\u001b[0;34m()\u001b[0m\n\u001b[1;32m    152\u001b[0m         \"\"\"\n\u001b[1;32m    153\u001b[0m         \u001b[0;32mdef\u001b[0m \u001b[0mfit_super\u001b[0m\u001b[0;34m(\u001b[0m\u001b[0;34m)\u001b[0m\u001b[0;34m:\u001b[0m\u001b[0;34m\u001b[0m\u001b[0m\n\u001b[0;32m--> 154\u001b[0;31m             \u001b[0msuper\u001b[0m\u001b[0;34m(\u001b[0m\u001b[0mTensorFlow\u001b[0m\u001b[0;34m,\u001b[0m \u001b[0mself\u001b[0m\u001b[0;34m)\u001b[0m\u001b[0;34m.\u001b[0m\u001b[0mfit\u001b[0m\u001b[0;34m(\u001b[0m\u001b[0minputs\u001b[0m\u001b[0;34m,\u001b[0m \u001b[0mwait\u001b[0m\u001b[0;34m,\u001b[0m \u001b[0mlogs\u001b[0m\u001b[0;34m,\u001b[0m \u001b[0mjob_name\u001b[0m\u001b[0;34m)\u001b[0m\u001b[0;34m\u001b[0m\u001b[0m\n\u001b[0m\u001b[1;32m    155\u001b[0m \u001b[0;34m\u001b[0m\u001b[0m\n\u001b[1;32m    156\u001b[0m         \u001b[0;32mif\u001b[0m \u001b[0mrun_tensorboard_locally\u001b[0m\u001b[0;34m:\u001b[0m\u001b[0;34m\u001b[0m\u001b[0m\n",
      "\u001b[0;32m~/anaconda3/envs/tensorflow_p36/lib/python3.6/site-packages/sagemaker/estimator.py\u001b[0m in \u001b[0;36mfit\u001b[0;34m(self, inputs, wait, logs, job_name)\u001b[0m\n\u001b[1;32m    515\u001b[0m         \u001b[0mself\u001b[0m\u001b[0;34m.\u001b[0m\u001b[0m_hyperparameters\u001b[0m\u001b[0;34m[\u001b[0m\u001b[0mJOB_NAME_PARAM_NAME\u001b[0m\u001b[0;34m]\u001b[0m \u001b[0;34m=\u001b[0m \u001b[0mself\u001b[0m\u001b[0;34m.\u001b[0m\u001b[0m_current_job_name\u001b[0m\u001b[0;34m\u001b[0m\u001b[0m\n\u001b[1;32m    516\u001b[0m         \u001b[0mself\u001b[0m\u001b[0;34m.\u001b[0m\u001b[0m_hyperparameters\u001b[0m\u001b[0;34m[\u001b[0m\u001b[0mSAGEMAKER_REGION_PARAM_NAME\u001b[0m\u001b[0;34m]\u001b[0m \u001b[0;34m=\u001b[0m \u001b[0mself\u001b[0m\u001b[0;34m.\u001b[0m\u001b[0msagemaker_session\u001b[0m\u001b[0;34m.\u001b[0m\u001b[0mboto_session\u001b[0m\u001b[0;34m.\u001b[0m\u001b[0mregion_name\u001b[0m\u001b[0;34m\u001b[0m\u001b[0m\n\u001b[0;32m--> 517\u001b[0;31m         \u001b[0msuper\u001b[0m\u001b[0;34m(\u001b[0m\u001b[0mFramework\u001b[0m\u001b[0;34m,\u001b[0m \u001b[0mself\u001b[0m\u001b[0;34m)\u001b[0m\u001b[0;34m.\u001b[0m\u001b[0mfit\u001b[0m\u001b[0;34m(\u001b[0m\u001b[0minputs\u001b[0m\u001b[0;34m,\u001b[0m \u001b[0mwait\u001b[0m\u001b[0;34m,\u001b[0m \u001b[0mlogs\u001b[0m\u001b[0;34m,\u001b[0m \u001b[0mself\u001b[0m\u001b[0;34m.\u001b[0m\u001b[0m_current_job_name\u001b[0m\u001b[0;34m)\u001b[0m\u001b[0;34m\u001b[0m\u001b[0m\n\u001b[0m\u001b[1;32m    518\u001b[0m \u001b[0;34m\u001b[0m\u001b[0m\n\u001b[1;32m    519\u001b[0m     \u001b[0;32mdef\u001b[0m \u001b[0mhyperparameters\u001b[0m\u001b[0;34m(\u001b[0m\u001b[0mself\u001b[0m\u001b[0;34m)\u001b[0m\u001b[0;34m:\u001b[0m\u001b[0;34m\u001b[0m\u001b[0m\n",
      "\u001b[0;32m~/anaconda3/envs/tensorflow_p36/lib/python3.6/site-packages/sagemaker/estimator.py\u001b[0m in \u001b[0;36mfit\u001b[0;34m(self, inputs, wait, logs, job_name)\u001b[0m\n\u001b[1;32m    152\u001b[0m         \u001b[0mself\u001b[0m\u001b[0;34m.\u001b[0m\u001b[0mlatest_training_job\u001b[0m \u001b[0;34m=\u001b[0m \u001b[0m_TrainingJob\u001b[0m\u001b[0;34m.\u001b[0m\u001b[0mstart_new\u001b[0m\u001b[0;34m(\u001b[0m\u001b[0mself\u001b[0m\u001b[0;34m,\u001b[0m \u001b[0minputs\u001b[0m\u001b[0;34m)\u001b[0m\u001b[0;34m\u001b[0m\u001b[0m\n\u001b[1;32m    153\u001b[0m         \u001b[0;32mif\u001b[0m \u001b[0mwait\u001b[0m\u001b[0;34m:\u001b[0m\u001b[0;34m\u001b[0m\u001b[0m\n\u001b[0;32m--> 154\u001b[0;31m             \u001b[0mself\u001b[0m\u001b[0;34m.\u001b[0m\u001b[0mlatest_training_job\u001b[0m\u001b[0;34m.\u001b[0m\u001b[0mwait\u001b[0m\u001b[0;34m(\u001b[0m\u001b[0mlogs\u001b[0m\u001b[0;34m=\u001b[0m\u001b[0mlogs\u001b[0m\u001b[0;34m)\u001b[0m\u001b[0;34m\u001b[0m\u001b[0m\n\u001b[0m\u001b[1;32m    155\u001b[0m         \u001b[0;32melse\u001b[0m\u001b[0;34m:\u001b[0m\u001b[0;34m\u001b[0m\u001b[0m\n\u001b[1;32m    156\u001b[0m             \u001b[0;32mraise\u001b[0m \u001b[0mNotImplemented\u001b[0m\u001b[0;34m(\u001b[0m\u001b[0;34m'Asynchronous fit not available'\u001b[0m\u001b[0;34m)\u001b[0m\u001b[0;34m\u001b[0m\u001b[0m\n",
      "\u001b[0;32m~/anaconda3/envs/tensorflow_p36/lib/python3.6/site-packages/sagemaker/estimator.py\u001b[0m in \u001b[0;36mwait\u001b[0;34m(self, logs)\u001b[0m\n\u001b[1;32m    321\u001b[0m     \u001b[0;32mdef\u001b[0m \u001b[0mwait\u001b[0m\u001b[0;34m(\u001b[0m\u001b[0mself\u001b[0m\u001b[0;34m,\u001b[0m \u001b[0mlogs\u001b[0m\u001b[0;34m=\u001b[0m\u001b[0;32mTrue\u001b[0m\u001b[0;34m)\u001b[0m\u001b[0;34m:\u001b[0m\u001b[0;34m\u001b[0m\u001b[0m\n\u001b[1;32m    322\u001b[0m         \u001b[0;32mif\u001b[0m \u001b[0mlogs\u001b[0m\u001b[0;34m:\u001b[0m\u001b[0;34m\u001b[0m\u001b[0m\n\u001b[0;32m--> 323\u001b[0;31m             \u001b[0mself\u001b[0m\u001b[0;34m.\u001b[0m\u001b[0msagemaker_session\u001b[0m\u001b[0;34m.\u001b[0m\u001b[0mlogs_for_job\u001b[0m\u001b[0;34m(\u001b[0m\u001b[0mself\u001b[0m\u001b[0;34m.\u001b[0m\u001b[0mjob_name\u001b[0m\u001b[0;34m,\u001b[0m \u001b[0mwait\u001b[0m\u001b[0;34m=\u001b[0m\u001b[0;32mTrue\u001b[0m\u001b[0;34m)\u001b[0m\u001b[0;34m\u001b[0m\u001b[0m\n\u001b[0m\u001b[1;32m    324\u001b[0m         \u001b[0;32melse\u001b[0m\u001b[0;34m:\u001b[0m\u001b[0;34m\u001b[0m\u001b[0m\n\u001b[1;32m    325\u001b[0m             \u001b[0mself\u001b[0m\u001b[0;34m.\u001b[0m\u001b[0msagemaker_session\u001b[0m\u001b[0;34m.\u001b[0m\u001b[0mwait_for_job\u001b[0m\u001b[0;34m(\u001b[0m\u001b[0mself\u001b[0m\u001b[0;34m.\u001b[0m\u001b[0mjob_name\u001b[0m\u001b[0;34m)\u001b[0m\u001b[0;34m\u001b[0m\u001b[0m\n",
      "\u001b[0;32m~/anaconda3/envs/tensorflow_p36/lib/python3.6/site-packages/sagemaker/session.py\u001b[0m in \u001b[0;36mlogs_for_job\u001b[0;34m(self, job_name, wait, poll)\u001b[0m\n\u001b[1;32m    654\u001b[0m \u001b[0;34m\u001b[0m\u001b[0m\n\u001b[1;32m    655\u001b[0m         \u001b[0;32mif\u001b[0m \u001b[0mwait\u001b[0m\u001b[0;34m:\u001b[0m\u001b[0;34m\u001b[0m\u001b[0m\n\u001b[0;32m--> 656\u001b[0;31m             \u001b[0mself\u001b[0m\u001b[0;34m.\u001b[0m\u001b[0m_check_job_status\u001b[0m\u001b[0;34m(\u001b[0m\u001b[0mjob_name\u001b[0m\u001b[0;34m,\u001b[0m \u001b[0mdescription\u001b[0m\u001b[0;34m)\u001b[0m\u001b[0;34m\u001b[0m\u001b[0m\n\u001b[0m\u001b[1;32m    657\u001b[0m             \u001b[0;32mif\u001b[0m \u001b[0mdot\u001b[0m\u001b[0;34m:\u001b[0m\u001b[0;34m\u001b[0m\u001b[0m\n\u001b[1;32m    658\u001b[0m                 \u001b[0mprint\u001b[0m\u001b[0;34m(\u001b[0m\u001b[0;34m)\u001b[0m\u001b[0;34m\u001b[0m\u001b[0m\n",
      "\u001b[0;32m~/anaconda3/envs/tensorflow_p36/lib/python3.6/site-packages/sagemaker/session.py\u001b[0m in \u001b[0;36m_check_job_status\u001b[0;34m(self, job, desc)\u001b[0m\n\u001b[1;32m    399\u001b[0m         \u001b[0;32mif\u001b[0m \u001b[0mstatus\u001b[0m \u001b[0;34m!=\u001b[0m \u001b[0;34m'Completed'\u001b[0m\u001b[0;34m:\u001b[0m\u001b[0;34m\u001b[0m\u001b[0m\n\u001b[1;32m    400\u001b[0m             \u001b[0mreason\u001b[0m \u001b[0;34m=\u001b[0m \u001b[0mdesc\u001b[0m\u001b[0;34m.\u001b[0m\u001b[0mget\u001b[0m\u001b[0;34m(\u001b[0m\u001b[0;34m'FailureReason'\u001b[0m\u001b[0;34m,\u001b[0m \u001b[0;34m'(No reason provided)'\u001b[0m\u001b[0;34m)\u001b[0m\u001b[0;34m\u001b[0m\u001b[0m\n\u001b[0;32m--> 401\u001b[0;31m             \u001b[0;32mraise\u001b[0m \u001b[0mValueError\u001b[0m\u001b[0;34m(\u001b[0m\u001b[0;34m'Error training {}: {} Reason: {}'\u001b[0m\u001b[0;34m.\u001b[0m\u001b[0mformat\u001b[0m\u001b[0;34m(\u001b[0m\u001b[0mjob\u001b[0m\u001b[0;34m,\u001b[0m \u001b[0mstatus\u001b[0m\u001b[0;34m,\u001b[0m \u001b[0mreason\u001b[0m\u001b[0;34m)\u001b[0m\u001b[0;34m)\u001b[0m\u001b[0;34m\u001b[0m\u001b[0m\n\u001b[0m\u001b[1;32m    402\u001b[0m \u001b[0;34m\u001b[0m\u001b[0m\n\u001b[1;32m    403\u001b[0m     \u001b[0;32mdef\u001b[0m \u001b[0mwait_for_endpoint\u001b[0m\u001b[0;34m(\u001b[0m\u001b[0mself\u001b[0m\u001b[0;34m,\u001b[0m \u001b[0mendpoint\u001b[0m\u001b[0;34m,\u001b[0m \u001b[0mpoll\u001b[0m\u001b[0;34m=\u001b[0m\u001b[0;36m5\u001b[0m\u001b[0;34m)\u001b[0m\u001b[0;34m:\u001b[0m\u001b[0;34m\u001b[0m\u001b[0m\n",
      "\u001b[0;31mValueError\u001b[0m: Error training sagemaker-tensorflow-py2-gpu-2017-12-12-21-09-30-135: Failed Reason: AlgorithmError: \nException during training:\nRank mismatch: Rank of labels (received 1) should equal rank of logits minus 1 (received 1).\nTraceback (most recent call last):\n  File \"/opt/amazon/lib/python2.7/site-packages/tf_container/run.py\", line 20, in train_and_log_exceptions\n    test_wrapper.train()\n  File \"/opt/amazon/lib/python2.7/site-packages/tf_container/trainer.py\", line 113, in train\n    learn_runner.run(experiment_fn, self.training_path)\n  File \"/usr/local/lib/python2.7/dist-packages/tensorflow/contrib/learn/python/learn/learn_runner.py\", line 218, in run\n    return _execute_schedule(experiment, schedule)\n  File \"/usr/local/lib/python2.7/dist-packages/tensorflow/contrib/learn/python/learn/learn_runner.py\", line 46, in _execute_schedule\n    return task()\n  File \"/usr/local/lib/python2.7/dist-packages/tensorflow/contrib/learn/python/learn/experiment.py\", line 625, in train_and_evaluate\n    self.train(delay_secs=0)\n  File \"/usr/local/lib/python2.7/dist-packages/tensorflow/contrib/learn/python/learn/ex"
     ]
    }
   ],
   "source": [
    "%%time\n",
    "data_loc = 's3://peterwills-test/MNIST-data'\n",
    "mnist_clf.fit(data_loc)"
   ]
  },
  {
   "cell_type": "code",
   "execution_count": null,
   "metadata": {
    "collapsed": true
   },
   "outputs": [],
   "source": [
    "%%time\n",
    "mnist_predictor = mnist_clf.deploy(initial_instance_count=1,instance_type='ml.c4.xlarge')"
   ]
  },
  {
   "cell_type": "code",
   "execution_count": null,
   "metadata": {
    "collapsed": true
   },
   "outputs": [],
   "source": [
    "# our model returns logits, not percentages, so no conversion is necessary\n",
    "prediction_series(predictions).plot.bar()\n",
    "plt.title('MNIST Classifier Probabilities');\n",
    "plt.xlabel('Digits');\n",
    "plt.ylabel('Probabilities in Logits');"
   ]
  },
  {
   "cell_type": "code",
   "execution_count": null,
   "metadata": {},
   "outputs": [],
   "source": [
    "# delete the endpoint when you're done to save resources\n",
    "sm.Session().delete_endpoint(mnist_predictor.endpoint)"
   ]
  }
 ],
 "metadata": {
  "kernelspec": {
   "display_name": "conda_tensorflow_p36",
   "language": "python",
   "name": "conda_tensorflow_p36"
  },
  "language_info": {
   "codemirror_mode": {
    "name": "ipython",
    "version": 3
   },
   "file_extension": ".py",
   "mimetype": "text/x-python",
   "name": "python",
   "nbconvert_exporter": "python",
   "pygments_lexer": "ipython3",
   "version": "3.6.2"
  }
 },
 "nbformat": 4,
 "nbformat_minor": 2
}
